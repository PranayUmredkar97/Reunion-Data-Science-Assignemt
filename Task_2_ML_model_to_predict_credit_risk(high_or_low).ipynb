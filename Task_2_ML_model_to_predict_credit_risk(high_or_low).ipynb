{
  "cells": [
    {
      "cell_type": "markdown",
      "metadata": {
        "id": "view-in-github",
        "colab_type": "text"
      },
      "source": [
        "<a href=\"https://colab.research.google.com/github/PranayUmredkar97/Reunion-Data-Science-Assignemt/blob/main/Task_2_ML_model_to_predict_credit_risk(high_or_low).ipynb\" target=\"_parent\"><img src=\"https://colab.research.google.com/assets/colab-badge.svg\" alt=\"Open In Colab\"/></a>"
      ]
    },
    {
      "cell_type": "markdown",
      "metadata": {
        "id": "y6oFuBaPjJHJ"
      },
      "source": [
        "\n",
        "## **Background**\n",
        "\n",
        "A person’s creditworthiness is often associated (conversely) with the likelihood they may default on loans.\n",
        "\n",
        "We’re giving you anonymized data on about 1000 loan applications, along with a certain set of attributes about the applicant itself, and whether they were considered high risk.\n",
        "\n",
        "0 = Low credit risk i.e high chance of paying back the loan amount\n",
        "\n",
        "1 = High credit risk i.e low chance of paying back the loan amount"
      ]
    },
    {
      "cell_type": "markdown",
      "metadata": {
        "id": "CnL_tHAAjUBW"
      },
      "source": [
        "### **TASK-2**\n",
        "\n",
        "**Develop the ML model(s) to predict the credit risk(low or high) for a given applicant.** \n",
        "\n",
        "**Business Constraint:** Note that it is worse to state an applicant as a low credit risk when they are actually a high risk, than it is to state an applicant to be a high credit risk when they aren’t.\n",
        "\n",
        "**Provide the answers for the below points:**\n",
        "\n",
        "1. Explain your intuition behind the features used for modeling.\n",
        "2. Are you creating new derived features? If yes explain the intuition behind them.\n",
        "3. Are there missing values? If yes how you plan to handle it.\n",
        "4. How categorical features are handled for modeling.\n",
        "5. Describe the features correlation using correlation matrix. Tell us about few correlated feature & share your understanding on why they are correlated.\n",
        "6. Do you plan to drop the correlated feature? If yes then how.\n",
        "7. Which ML algorithm you plan to use for modeling.\n",
        "8. **Train two (at least) ML models** to predict the credit risk & provide the confusion matrix for each model.\n",
        "9. How you will select the hyperparameters for models trained in above step.\n",
        "10. Which metric(s) you will choose to select between the set of models.\n",
        "11. Explain how you will export the trained models & deploy it for prediction in production."
      ]
    },
    {
      "cell_type": "markdown",
      "metadata": {
        "id": "q2HRId0wjv9i"
      },
      "source": [
        "- **Dataset Description**\n",
        "    \n",
        "    The dataset has two files:\n",
        "    \n",
        "    1. `applicant.csv`: This file contains personal data about the (primary) applicant\n",
        "    - Unique ID: `applicant_id` (string)\n",
        "    - Other fields:\n",
        "        - Primary_applicant_age_in_years (numeric)\n",
        "        - Gender (string)\n",
        "        - Marital_status (string)\n",
        "        - Number_of_dependents (numeric)\n",
        "        - Housing (string)\n",
        "        - Years_at_current_residence (numeric)\n",
        "        - Employment_status (string)\n",
        "        - Has_been_employed_for_at_least (string)\n",
        "        - Has_been_employed_for_at_most (string)\n",
        "        - Telephone (string)\n",
        "        - Foreign_worker (numeric)\n",
        "        - Savings_account_balance (string)\n",
        "        - Balance_in_existing_bank_account_(lower_limit_of_bucket) (string)\n",
        "        - Balance_in_existing_bank_account_(upper_limit_of_bucket) (string)\n",
        "    \n",
        "    1. `loan.csv`: This file contains data more specific to the loan application\n",
        "    - Target: `high_risk_application` (numeric)\n",
        "    - Other fields:\n",
        "        - applicant_id (string)\n",
        "        - Months_loan_taken_for (numeric)\n",
        "        - Purpose (string)\n",
        "        - Principal_loan_amount (numeric)\n",
        "        - EMI_rate_in_percentage_of_disposable_income (numeric)\n",
        "        - Property (string)\n",
        "        - Has_coapplicant (numeric)\n",
        "        - Has_guarantor (numeric)\n",
        "        - Other_EMI_plans (string)\n",
        "        - Number_of_existing_loans_at_this_bank (numeric)\n",
        "        - Loan_history (string)"
      ]
    },
    {
      "cell_type": "code",
      "execution_count": 1,
      "metadata": {
        "id": "f7s70Kz7GUvs"
      },
      "outputs": [],
      "source": [
        "#importing required libraries\n",
        "import numpy as np #for numerical computation\n",
        "import pandas as pd #for data manipulation\n",
        "import matplotlib.pyplot as plt #for visualization\n",
        "%matplotlib inline\n",
        "import seaborn as sns #for visualzaton\n",
        "import warnings #to supress warnings\n",
        "warnings.filterwarnings('ignore')"
      ]
    },
    {
      "cell_type": "code",
      "execution_count": 2,
      "metadata": {
        "id": "jRHLMkUbksfG"
      },
      "outputs": [],
      "source": [
        "#set max columns display limit\n",
        "pd.set_option(\"display.max_columns\", 100)\n",
        "#to supress scientific notation\n",
        "pd.set_option('display.float_format', '{:.3f}'.format)\n",
        "#set style for graph\n",
        "sns.set_style(style='darkgrid')\n",
        "\n",
        "# Setting fontsizes,fontweight,label weight for lebels,titles.\n",
        "plt.rcParams[\"font.weight\"] = \"bold\"\n",
        "plt.rcParams[\"axes.labelweight\"] = \"bold\"\n",
        "plt.rcParams[\"axes.titlesize\"] = 25\n",
        "plt.rcParams[\"axes.titleweight\"] = 'bold'\n",
        "plt.rcParams['xtick.labelsize']=15\n",
        "plt.rcParams['ytick.labelsize']=15\n",
        "plt.rcParams[\"axes.labelsize\"] = 20\n",
        "plt.rcParams[\"legend.fontsize\"] = 15\n",
        "plt.rcParams[\"legend.title_fontsize\"] = 15"
      ]
    },
    {
      "cell_type": "markdown",
      "metadata": {
        "id": "iSb1JdWWkxFt"
      },
      "source": [
        "# **Mouting Drive**"
      ]
    },
    {
      "cell_type": "code",
      "execution_count": 3,
      "metadata": {
        "colab": {
          "base_uri": "https://localhost:8080/"
        },
        "id": "Ip4MJNCIk0zn",
        "outputId": "55a373b9-de5a-4bbf-e3b9-a768121c1c98"
      },
      "outputs": [
        {
          "output_type": "stream",
          "name": "stdout",
          "text": [
            "Mounted at /content/drive/\n"
          ]
        }
      ],
      "source": [
        "from google.colab import drive\n",
        "drive.mount('/content/drive/')"
      ]
    },
    {
      "cell_type": "markdown",
      "metadata": {
        "id": "QjqH0_XhlPkv"
      },
      "source": [
        "I am using cleaned dataframe as we did some preprocessing in our EDA process."
      ]
    },
    {
      "cell_type": "code",
      "execution_count": 4,
      "metadata": {
        "id": "OAn-pFrlk2tC"
      },
      "outputs": [],
      "source": [
        "#reading dataset \n",
        "\n",
        "#file location\n",
        "cleaned_df= '/content/drive/MyDrive/Reunion Assignment/df.csv'\n",
        "# df = pd.read_csv('df.csv')\n",
        "df =pd.read_csv(cleaned_df)\n"
      ]
    },
    {
      "cell_type": "code",
      "execution_count": 5,
      "metadata": {
        "colab": {
          "base_uri": "https://localhost:8080/",
          "height": 496
        },
        "id": "hK-iRNholadV",
        "outputId": "0769b7ae-4e31-4865-844d-7c63cffd3fed"
      },
      "outputs": [
        {
          "output_type": "execute_result",
          "data": {
            "text/plain": [
              "   Unnamed: 0  Primary_applicant_age_in_years  Gender  \\\n",
              "0           0                              67    male   \n",
              "1           1                              22  female   \n",
              "2           2                              49    male   \n",
              "3           3                              45    male   \n",
              "4           4                              53    male   \n",
              "\n",
              "               Marital_status  Number_of_dependents   Housing  \\\n",
              "0                      single                     1       own   \n",
              "1  divorced/separated/married                     1       own   \n",
              "2                      single                     2       own   \n",
              "3                      single                     2  for free   \n",
              "4                      single                     2  for free   \n",
              "\n",
              "   Years_at_current_residence            Employment_status  \\\n",
              "0                           4  skilled employee / official   \n",
              "1                           2  skilled employee / official   \n",
              "2                           3         unskilled - resident   \n",
              "3                           4  skilled employee / official   \n",
              "4                           4  skilled employee / official   \n",
              "\n",
              "  Has_been_employed_for_at_least Has_been_employed_for_at_most  \\\n",
              "0                        7 years                       7 years   \n",
              "1                         1 year                       4 years   \n",
              "2                        4 years                       7 years   \n",
              "3                        4 years                       7 years   \n",
              "4                         1 year                       4 years   \n",
              "\n",
              "   Foreign_worker Savings_account_balance  Months_loan_taken_for  \\\n",
              "0               1                     Low                      6   \n",
              "1               1                     Low                     48   \n",
              "2               1                     Low                     12   \n",
              "3               1                     Low                     42   \n",
              "4               1                     Low                     24   \n",
              "\n",
              "                Purpose  Principal_loan_amount  \\\n",
              "0  electronic equipment                1169000   \n",
              "1  electronic equipment                5951000   \n",
              "2             education                2096000   \n",
              "3                  FF&E                7882000   \n",
              "4           new vehicle                4870000   \n",
              "\n",
              "   EMI_rate_in_percentage_of_disposable_income  \\\n",
              "0                                            4   \n",
              "1                                            2   \n",
              "2                                            2   \n",
              "3                                            2   \n",
              "4                                            3   \n",
              "\n",
              "                                            Property  Has_coapplicant  \\\n",
              "0                                        real estate                0   \n",
              "1                                        real estate                0   \n",
              "2                                        real estate                0   \n",
              "3  building society savings agreement/life insurance                0   \n",
              "4                                       car or other                0   \n",
              "\n",
              "   Has_guarantor  Number_of_existing_loans_at_this_bank  \\\n",
              "0              0                                      2   \n",
              "1              0                                      1   \n",
              "2              0                                      1   \n",
              "3              1                                      1   \n",
              "4              0                                      2   \n",
              "\n",
              "                             Loan_history  high_risk_applicant  \n",
              "0   critical/pending loans at other banks                    0  \n",
              "1  existing loans paid back duly till now                    1  \n",
              "2   critical/pending loans at other banks                    0  \n",
              "3  existing loans paid back duly till now                    0  \n",
              "4   delay in paying off loans in the past                    1  "
            ],
            "text/html": [
              "\n",
              "  <div id=\"df-a1c3b311-cceb-4ede-8bb5-5b8897fb5bf9\">\n",
              "    <div class=\"colab-df-container\">\n",
              "      <div>\n",
              "<style scoped>\n",
              "    .dataframe tbody tr th:only-of-type {\n",
              "        vertical-align: middle;\n",
              "    }\n",
              "\n",
              "    .dataframe tbody tr th {\n",
              "        vertical-align: top;\n",
              "    }\n",
              "\n",
              "    .dataframe thead th {\n",
              "        text-align: right;\n",
              "    }\n",
              "</style>\n",
              "<table border=\"1\" class=\"dataframe\">\n",
              "  <thead>\n",
              "    <tr style=\"text-align: right;\">\n",
              "      <th></th>\n",
              "      <th>Unnamed: 0</th>\n",
              "      <th>Primary_applicant_age_in_years</th>\n",
              "      <th>Gender</th>\n",
              "      <th>Marital_status</th>\n",
              "      <th>Number_of_dependents</th>\n",
              "      <th>Housing</th>\n",
              "      <th>Years_at_current_residence</th>\n",
              "      <th>Employment_status</th>\n",
              "      <th>Has_been_employed_for_at_least</th>\n",
              "      <th>Has_been_employed_for_at_most</th>\n",
              "      <th>Foreign_worker</th>\n",
              "      <th>Savings_account_balance</th>\n",
              "      <th>Months_loan_taken_for</th>\n",
              "      <th>Purpose</th>\n",
              "      <th>Principal_loan_amount</th>\n",
              "      <th>EMI_rate_in_percentage_of_disposable_income</th>\n",
              "      <th>Property</th>\n",
              "      <th>Has_coapplicant</th>\n",
              "      <th>Has_guarantor</th>\n",
              "      <th>Number_of_existing_loans_at_this_bank</th>\n",
              "      <th>Loan_history</th>\n",
              "      <th>high_risk_applicant</th>\n",
              "    </tr>\n",
              "  </thead>\n",
              "  <tbody>\n",
              "    <tr>\n",
              "      <th>0</th>\n",
              "      <td>0</td>\n",
              "      <td>67</td>\n",
              "      <td>male</td>\n",
              "      <td>single</td>\n",
              "      <td>1</td>\n",
              "      <td>own</td>\n",
              "      <td>4</td>\n",
              "      <td>skilled employee / official</td>\n",
              "      <td>7 years</td>\n",
              "      <td>7 years</td>\n",
              "      <td>1</td>\n",
              "      <td>Low</td>\n",
              "      <td>6</td>\n",
              "      <td>electronic equipment</td>\n",
              "      <td>1169000</td>\n",
              "      <td>4</td>\n",
              "      <td>real estate</td>\n",
              "      <td>0</td>\n",
              "      <td>0</td>\n",
              "      <td>2</td>\n",
              "      <td>critical/pending loans at other banks</td>\n",
              "      <td>0</td>\n",
              "    </tr>\n",
              "    <tr>\n",
              "      <th>1</th>\n",
              "      <td>1</td>\n",
              "      <td>22</td>\n",
              "      <td>female</td>\n",
              "      <td>divorced/separated/married</td>\n",
              "      <td>1</td>\n",
              "      <td>own</td>\n",
              "      <td>2</td>\n",
              "      <td>skilled employee / official</td>\n",
              "      <td>1 year</td>\n",
              "      <td>4 years</td>\n",
              "      <td>1</td>\n",
              "      <td>Low</td>\n",
              "      <td>48</td>\n",
              "      <td>electronic equipment</td>\n",
              "      <td>5951000</td>\n",
              "      <td>2</td>\n",
              "      <td>real estate</td>\n",
              "      <td>0</td>\n",
              "      <td>0</td>\n",
              "      <td>1</td>\n",
              "      <td>existing loans paid back duly till now</td>\n",
              "      <td>1</td>\n",
              "    </tr>\n",
              "    <tr>\n",
              "      <th>2</th>\n",
              "      <td>2</td>\n",
              "      <td>49</td>\n",
              "      <td>male</td>\n",
              "      <td>single</td>\n",
              "      <td>2</td>\n",
              "      <td>own</td>\n",
              "      <td>3</td>\n",
              "      <td>unskilled - resident</td>\n",
              "      <td>4 years</td>\n",
              "      <td>7 years</td>\n",
              "      <td>1</td>\n",
              "      <td>Low</td>\n",
              "      <td>12</td>\n",
              "      <td>education</td>\n",
              "      <td>2096000</td>\n",
              "      <td>2</td>\n",
              "      <td>real estate</td>\n",
              "      <td>0</td>\n",
              "      <td>0</td>\n",
              "      <td>1</td>\n",
              "      <td>critical/pending loans at other banks</td>\n",
              "      <td>0</td>\n",
              "    </tr>\n",
              "    <tr>\n",
              "      <th>3</th>\n",
              "      <td>3</td>\n",
              "      <td>45</td>\n",
              "      <td>male</td>\n",
              "      <td>single</td>\n",
              "      <td>2</td>\n",
              "      <td>for free</td>\n",
              "      <td>4</td>\n",
              "      <td>skilled employee / official</td>\n",
              "      <td>4 years</td>\n",
              "      <td>7 years</td>\n",
              "      <td>1</td>\n",
              "      <td>Low</td>\n",
              "      <td>42</td>\n",
              "      <td>FF&amp;E</td>\n",
              "      <td>7882000</td>\n",
              "      <td>2</td>\n",
              "      <td>building society savings agreement/life insurance</td>\n",
              "      <td>0</td>\n",
              "      <td>1</td>\n",
              "      <td>1</td>\n",
              "      <td>existing loans paid back duly till now</td>\n",
              "      <td>0</td>\n",
              "    </tr>\n",
              "    <tr>\n",
              "      <th>4</th>\n",
              "      <td>4</td>\n",
              "      <td>53</td>\n",
              "      <td>male</td>\n",
              "      <td>single</td>\n",
              "      <td>2</td>\n",
              "      <td>for free</td>\n",
              "      <td>4</td>\n",
              "      <td>skilled employee / official</td>\n",
              "      <td>1 year</td>\n",
              "      <td>4 years</td>\n",
              "      <td>1</td>\n",
              "      <td>Low</td>\n",
              "      <td>24</td>\n",
              "      <td>new vehicle</td>\n",
              "      <td>4870000</td>\n",
              "      <td>3</td>\n",
              "      <td>car or other</td>\n",
              "      <td>0</td>\n",
              "      <td>0</td>\n",
              "      <td>2</td>\n",
              "      <td>delay in paying off loans in the past</td>\n",
              "      <td>1</td>\n",
              "    </tr>\n",
              "  </tbody>\n",
              "</table>\n",
              "</div>\n",
              "      <button class=\"colab-df-convert\" onclick=\"convertToInteractive('df-a1c3b311-cceb-4ede-8bb5-5b8897fb5bf9')\"\n",
              "              title=\"Convert this dataframe to an interactive table.\"\n",
              "              style=\"display:none;\">\n",
              "        \n",
              "  <svg xmlns=\"http://www.w3.org/2000/svg\" height=\"24px\"viewBox=\"0 0 24 24\"\n",
              "       width=\"24px\">\n",
              "    <path d=\"M0 0h24v24H0V0z\" fill=\"none\"/>\n",
              "    <path d=\"M18.56 5.44l.94 2.06.94-2.06 2.06-.94-2.06-.94-.94-2.06-.94 2.06-2.06.94zm-11 1L8.5 8.5l.94-2.06 2.06-.94-2.06-.94L8.5 2.5l-.94 2.06-2.06.94zm10 10l.94 2.06.94-2.06 2.06-.94-2.06-.94-.94-2.06-.94 2.06-2.06.94z\"/><path d=\"M17.41 7.96l-1.37-1.37c-.4-.4-.92-.59-1.43-.59-.52 0-1.04.2-1.43.59L10.3 9.45l-7.72 7.72c-.78.78-.78 2.05 0 2.83L4 21.41c.39.39.9.59 1.41.59.51 0 1.02-.2 1.41-.59l7.78-7.78 2.81-2.81c.8-.78.8-2.07 0-2.86zM5.41 20L4 18.59l7.72-7.72 1.47 1.35L5.41 20z\"/>\n",
              "  </svg>\n",
              "      </button>\n",
              "      \n",
              "  <style>\n",
              "    .colab-df-container {\n",
              "      display:flex;\n",
              "      flex-wrap:wrap;\n",
              "      gap: 12px;\n",
              "    }\n",
              "\n",
              "    .colab-df-convert {\n",
              "      background-color: #E8F0FE;\n",
              "      border: none;\n",
              "      border-radius: 50%;\n",
              "      cursor: pointer;\n",
              "      display: none;\n",
              "      fill: #1967D2;\n",
              "      height: 32px;\n",
              "      padding: 0 0 0 0;\n",
              "      width: 32px;\n",
              "    }\n",
              "\n",
              "    .colab-df-convert:hover {\n",
              "      background-color: #E2EBFA;\n",
              "      box-shadow: 0px 1px 2px rgba(60, 64, 67, 0.3), 0px 1px 3px 1px rgba(60, 64, 67, 0.15);\n",
              "      fill: #174EA6;\n",
              "    }\n",
              "\n",
              "    [theme=dark] .colab-df-convert {\n",
              "      background-color: #3B4455;\n",
              "      fill: #D2E3FC;\n",
              "    }\n",
              "\n",
              "    [theme=dark] .colab-df-convert:hover {\n",
              "      background-color: #434B5C;\n",
              "      box-shadow: 0px 1px 3px 1px rgba(0, 0, 0, 0.15);\n",
              "      filter: drop-shadow(0px 1px 2px rgba(0, 0, 0, 0.3));\n",
              "      fill: #FFFFFF;\n",
              "    }\n",
              "  </style>\n",
              "\n",
              "      <script>\n",
              "        const buttonEl =\n",
              "          document.querySelector('#df-a1c3b311-cceb-4ede-8bb5-5b8897fb5bf9 button.colab-df-convert');\n",
              "        buttonEl.style.display =\n",
              "          google.colab.kernel.accessAllowed ? 'block' : 'none';\n",
              "\n",
              "        async function convertToInteractive(key) {\n",
              "          const element = document.querySelector('#df-a1c3b311-cceb-4ede-8bb5-5b8897fb5bf9');\n",
              "          const dataTable =\n",
              "            await google.colab.kernel.invokeFunction('convertToInteractive',\n",
              "                                                     [key], {});\n",
              "          if (!dataTable) return;\n",
              "\n",
              "          const docLinkHtml = 'Like what you see? Visit the ' +\n",
              "            '<a target=\"_blank\" href=https://colab.research.google.com/notebooks/data_table.ipynb>data table notebook</a>'\n",
              "            + ' to learn more about interactive tables.';\n",
              "          element.innerHTML = '';\n",
              "          dataTable['output_type'] = 'display_data';\n",
              "          await google.colab.output.renderOutput(dataTable, element);\n",
              "          const docLink = document.createElement('div');\n",
              "          docLink.innerHTML = docLinkHtml;\n",
              "          element.appendChild(docLink);\n",
              "        }\n",
              "      </script>\n",
              "    </div>\n",
              "  </div>\n",
              "  "
            ]
          },
          "metadata": {},
          "execution_count": 5
        }
      ],
      "source": [
        "df.head()"
      ]
    },
    {
      "cell_type": "markdown",
      "metadata": {
        "id": "YjLxmNwGmV6w"
      },
      "source": [
        "We have 22 columns in our dataset and one extra column is created for index (unnamed), we will drop that column."
      ]
    },
    {
      "cell_type": "code",
      "execution_count": 6,
      "metadata": {
        "id": "h7R5A0Elqd_b"
      },
      "outputs": [],
      "source": [
        "df.drop('Unnamed: 0', axis=1, inplace=True)"
      ]
    },
    {
      "cell_type": "code",
      "execution_count": 7,
      "metadata": {
        "colab": {
          "base_uri": "https://localhost:8080/"
        },
        "id": "OxC3W5PPld4M",
        "outputId": "8fe6ec97-7d85-426c-cb73-0bd0cb87bd74"
      },
      "outputs": [
        {
          "output_type": "stream",
          "name": "stdout",
          "text": [
            "<class 'pandas.core.frame.DataFrame'>\n",
            "RangeIndex: 1000 entries, 0 to 999\n",
            "Data columns (total 21 columns):\n",
            " #   Column                                       Non-Null Count  Dtype \n",
            "---  ------                                       --------------  ----- \n",
            " 0   Primary_applicant_age_in_years               1000 non-null   int64 \n",
            " 1   Gender                                       1000 non-null   object\n",
            " 2   Marital_status                               1000 non-null   object\n",
            " 3   Number_of_dependents                         1000 non-null   int64 \n",
            " 4   Housing                                      1000 non-null   object\n",
            " 5   Years_at_current_residence                   1000 non-null   int64 \n",
            " 6   Employment_status                            1000 non-null   object\n",
            " 7   Has_been_employed_for_at_least               1000 non-null   object\n",
            " 8   Has_been_employed_for_at_most                1000 non-null   object\n",
            " 9   Foreign_worker                               1000 non-null   int64 \n",
            " 10  Savings_account_balance                      1000 non-null   object\n",
            " 11  Months_loan_taken_for                        1000 non-null   int64 \n",
            " 12  Purpose                                      1000 non-null   object\n",
            " 13  Principal_loan_amount                        1000 non-null   int64 \n",
            " 14  EMI_rate_in_percentage_of_disposable_income  1000 non-null   int64 \n",
            " 15  Property                                     1000 non-null   object\n",
            " 16  Has_coapplicant                              1000 non-null   int64 \n",
            " 17  Has_guarantor                                1000 non-null   int64 \n",
            " 18  Number_of_existing_loans_at_this_bank        1000 non-null   int64 \n",
            " 19  Loan_history                                 1000 non-null   object\n",
            " 20  high_risk_applicant                          1000 non-null   int64 \n",
            "dtypes: int64(11), object(10)\n",
            "memory usage: 164.2+ KB\n"
          ]
        }
      ],
      "source": [
        "#checking information\n",
        "df.info()"
      ]
    },
    {
      "cell_type": "code",
      "execution_count": 8,
      "metadata": {
        "colab": {
          "base_uri": "https://localhost:8080/",
          "height": 394
        },
        "id": "HsY-E4R7m3v5",
        "outputId": "2fc629f7-06df-46d4-9541-908f6df476eb"
      },
      "outputs": [
        {
          "output_type": "execute_result",
          "data": {
            "text/plain": [
              "                                               count        mean         std  \\\n",
              "Primary_applicant_age_in_years              1000.000      35.546      11.375   \n",
              "Number_of_dependents                        1000.000       1.155       0.362   \n",
              "Years_at_current_residence                  1000.000       2.845       1.104   \n",
              "Foreign_worker                              1000.000       0.963       0.189   \n",
              "Months_loan_taken_for                       1000.000      20.903      12.059   \n",
              "Principal_loan_amount                       1000.000 3271258.000 2822736.876   \n",
              "EMI_rate_in_percentage_of_disposable_income 1000.000       2.973       1.119   \n",
              "Has_coapplicant                             1000.000       0.041       0.198   \n",
              "Has_guarantor                               1000.000       0.052       0.222   \n",
              "Number_of_existing_loans_at_this_bank       1000.000       1.407       0.578   \n",
              "high_risk_applicant                         1000.000       0.300       0.458   \n",
              "\n",
              "                                                   min         25%  \\\n",
              "Primary_applicant_age_in_years                  19.000      27.000   \n",
              "Number_of_dependents                             1.000       1.000   \n",
              "Years_at_current_residence                       1.000       2.000   \n",
              "Foreign_worker                                   0.000       1.000   \n",
              "Months_loan_taken_for                            4.000      12.000   \n",
              "Principal_loan_amount                       250000.000 1365500.000   \n",
              "EMI_rate_in_percentage_of_disposable_income      1.000       2.000   \n",
              "Has_coapplicant                                  0.000       0.000   \n",
              "Has_guarantor                                    0.000       0.000   \n",
              "Number_of_existing_loans_at_this_bank            1.000       1.000   \n",
              "high_risk_applicant                              0.000       0.000   \n",
              "\n",
              "                                                    50%         75%  \\\n",
              "Primary_applicant_age_in_years                   33.000      42.000   \n",
              "Number_of_dependents                              1.000       1.000   \n",
              "Years_at_current_residence                        3.000       4.000   \n",
              "Foreign_worker                                    1.000       1.000   \n",
              "Months_loan_taken_for                            18.000      24.000   \n",
              "Principal_loan_amount                       2319500.000 3972250.000   \n",
              "EMI_rate_in_percentage_of_disposable_income       3.000       4.000   \n",
              "Has_coapplicant                                   0.000       0.000   \n",
              "Has_guarantor                                     0.000       0.000   \n",
              "Number_of_existing_loans_at_this_bank             1.000       2.000   \n",
              "high_risk_applicant                               0.000       1.000   \n",
              "\n",
              "                                                     max  \n",
              "Primary_applicant_age_in_years                    75.000  \n",
              "Number_of_dependents                               2.000  \n",
              "Years_at_current_residence                         4.000  \n",
              "Foreign_worker                                     1.000  \n",
              "Months_loan_taken_for                             72.000  \n",
              "Principal_loan_amount                       18424000.000  \n",
              "EMI_rate_in_percentage_of_disposable_income        4.000  \n",
              "Has_coapplicant                                    1.000  \n",
              "Has_guarantor                                      1.000  \n",
              "Number_of_existing_loans_at_this_bank              4.000  \n",
              "high_risk_applicant                                1.000  "
            ],
            "text/html": [
              "\n",
              "  <div id=\"df-8f4570bf-01f2-4b38-b183-7bcde1a18ed0\">\n",
              "    <div class=\"colab-df-container\">\n",
              "      <div>\n",
              "<style scoped>\n",
              "    .dataframe tbody tr th:only-of-type {\n",
              "        vertical-align: middle;\n",
              "    }\n",
              "\n",
              "    .dataframe tbody tr th {\n",
              "        vertical-align: top;\n",
              "    }\n",
              "\n",
              "    .dataframe thead th {\n",
              "        text-align: right;\n",
              "    }\n",
              "</style>\n",
              "<table border=\"1\" class=\"dataframe\">\n",
              "  <thead>\n",
              "    <tr style=\"text-align: right;\">\n",
              "      <th></th>\n",
              "      <th>count</th>\n",
              "      <th>mean</th>\n",
              "      <th>std</th>\n",
              "      <th>min</th>\n",
              "      <th>25%</th>\n",
              "      <th>50%</th>\n",
              "      <th>75%</th>\n",
              "      <th>max</th>\n",
              "    </tr>\n",
              "  </thead>\n",
              "  <tbody>\n",
              "    <tr>\n",
              "      <th>Primary_applicant_age_in_years</th>\n",
              "      <td>1000.000</td>\n",
              "      <td>35.546</td>\n",
              "      <td>11.375</td>\n",
              "      <td>19.000</td>\n",
              "      <td>27.000</td>\n",
              "      <td>33.000</td>\n",
              "      <td>42.000</td>\n",
              "      <td>75.000</td>\n",
              "    </tr>\n",
              "    <tr>\n",
              "      <th>Number_of_dependents</th>\n",
              "      <td>1000.000</td>\n",
              "      <td>1.155</td>\n",
              "      <td>0.362</td>\n",
              "      <td>1.000</td>\n",
              "      <td>1.000</td>\n",
              "      <td>1.000</td>\n",
              "      <td>1.000</td>\n",
              "      <td>2.000</td>\n",
              "    </tr>\n",
              "    <tr>\n",
              "      <th>Years_at_current_residence</th>\n",
              "      <td>1000.000</td>\n",
              "      <td>2.845</td>\n",
              "      <td>1.104</td>\n",
              "      <td>1.000</td>\n",
              "      <td>2.000</td>\n",
              "      <td>3.000</td>\n",
              "      <td>4.000</td>\n",
              "      <td>4.000</td>\n",
              "    </tr>\n",
              "    <tr>\n",
              "      <th>Foreign_worker</th>\n",
              "      <td>1000.000</td>\n",
              "      <td>0.963</td>\n",
              "      <td>0.189</td>\n",
              "      <td>0.000</td>\n",
              "      <td>1.000</td>\n",
              "      <td>1.000</td>\n",
              "      <td>1.000</td>\n",
              "      <td>1.000</td>\n",
              "    </tr>\n",
              "    <tr>\n",
              "      <th>Months_loan_taken_for</th>\n",
              "      <td>1000.000</td>\n",
              "      <td>20.903</td>\n",
              "      <td>12.059</td>\n",
              "      <td>4.000</td>\n",
              "      <td>12.000</td>\n",
              "      <td>18.000</td>\n",
              "      <td>24.000</td>\n",
              "      <td>72.000</td>\n",
              "    </tr>\n",
              "    <tr>\n",
              "      <th>Principal_loan_amount</th>\n",
              "      <td>1000.000</td>\n",
              "      <td>3271258.000</td>\n",
              "      <td>2822736.876</td>\n",
              "      <td>250000.000</td>\n",
              "      <td>1365500.000</td>\n",
              "      <td>2319500.000</td>\n",
              "      <td>3972250.000</td>\n",
              "      <td>18424000.000</td>\n",
              "    </tr>\n",
              "    <tr>\n",
              "      <th>EMI_rate_in_percentage_of_disposable_income</th>\n",
              "      <td>1000.000</td>\n",
              "      <td>2.973</td>\n",
              "      <td>1.119</td>\n",
              "      <td>1.000</td>\n",
              "      <td>2.000</td>\n",
              "      <td>3.000</td>\n",
              "      <td>4.000</td>\n",
              "      <td>4.000</td>\n",
              "    </tr>\n",
              "    <tr>\n",
              "      <th>Has_coapplicant</th>\n",
              "      <td>1000.000</td>\n",
              "      <td>0.041</td>\n",
              "      <td>0.198</td>\n",
              "      <td>0.000</td>\n",
              "      <td>0.000</td>\n",
              "      <td>0.000</td>\n",
              "      <td>0.000</td>\n",
              "      <td>1.000</td>\n",
              "    </tr>\n",
              "    <tr>\n",
              "      <th>Has_guarantor</th>\n",
              "      <td>1000.000</td>\n",
              "      <td>0.052</td>\n",
              "      <td>0.222</td>\n",
              "      <td>0.000</td>\n",
              "      <td>0.000</td>\n",
              "      <td>0.000</td>\n",
              "      <td>0.000</td>\n",
              "      <td>1.000</td>\n",
              "    </tr>\n",
              "    <tr>\n",
              "      <th>Number_of_existing_loans_at_this_bank</th>\n",
              "      <td>1000.000</td>\n",
              "      <td>1.407</td>\n",
              "      <td>0.578</td>\n",
              "      <td>1.000</td>\n",
              "      <td>1.000</td>\n",
              "      <td>1.000</td>\n",
              "      <td>2.000</td>\n",
              "      <td>4.000</td>\n",
              "    </tr>\n",
              "    <tr>\n",
              "      <th>high_risk_applicant</th>\n",
              "      <td>1000.000</td>\n",
              "      <td>0.300</td>\n",
              "      <td>0.458</td>\n",
              "      <td>0.000</td>\n",
              "      <td>0.000</td>\n",
              "      <td>0.000</td>\n",
              "      <td>1.000</td>\n",
              "      <td>1.000</td>\n",
              "    </tr>\n",
              "  </tbody>\n",
              "</table>\n",
              "</div>\n",
              "      <button class=\"colab-df-convert\" onclick=\"convertToInteractive('df-8f4570bf-01f2-4b38-b183-7bcde1a18ed0')\"\n",
              "              title=\"Convert this dataframe to an interactive table.\"\n",
              "              style=\"display:none;\">\n",
              "        \n",
              "  <svg xmlns=\"http://www.w3.org/2000/svg\" height=\"24px\"viewBox=\"0 0 24 24\"\n",
              "       width=\"24px\">\n",
              "    <path d=\"M0 0h24v24H0V0z\" fill=\"none\"/>\n",
              "    <path d=\"M18.56 5.44l.94 2.06.94-2.06 2.06-.94-2.06-.94-.94-2.06-.94 2.06-2.06.94zm-11 1L8.5 8.5l.94-2.06 2.06-.94-2.06-.94L8.5 2.5l-.94 2.06-2.06.94zm10 10l.94 2.06.94-2.06 2.06-.94-2.06-.94-.94-2.06-.94 2.06-2.06.94z\"/><path d=\"M17.41 7.96l-1.37-1.37c-.4-.4-.92-.59-1.43-.59-.52 0-1.04.2-1.43.59L10.3 9.45l-7.72 7.72c-.78.78-.78 2.05 0 2.83L4 21.41c.39.39.9.59 1.41.59.51 0 1.02-.2 1.41-.59l7.78-7.78 2.81-2.81c.8-.78.8-2.07 0-2.86zM5.41 20L4 18.59l7.72-7.72 1.47 1.35L5.41 20z\"/>\n",
              "  </svg>\n",
              "      </button>\n",
              "      \n",
              "  <style>\n",
              "    .colab-df-container {\n",
              "      display:flex;\n",
              "      flex-wrap:wrap;\n",
              "      gap: 12px;\n",
              "    }\n",
              "\n",
              "    .colab-df-convert {\n",
              "      background-color: #E8F0FE;\n",
              "      border: none;\n",
              "      border-radius: 50%;\n",
              "      cursor: pointer;\n",
              "      display: none;\n",
              "      fill: #1967D2;\n",
              "      height: 32px;\n",
              "      padding: 0 0 0 0;\n",
              "      width: 32px;\n",
              "    }\n",
              "\n",
              "    .colab-df-convert:hover {\n",
              "      background-color: #E2EBFA;\n",
              "      box-shadow: 0px 1px 2px rgba(60, 64, 67, 0.3), 0px 1px 3px 1px rgba(60, 64, 67, 0.15);\n",
              "      fill: #174EA6;\n",
              "    }\n",
              "\n",
              "    [theme=dark] .colab-df-convert {\n",
              "      background-color: #3B4455;\n",
              "      fill: #D2E3FC;\n",
              "    }\n",
              "\n",
              "    [theme=dark] .colab-df-convert:hover {\n",
              "      background-color: #434B5C;\n",
              "      box-shadow: 0px 1px 3px 1px rgba(0, 0, 0, 0.15);\n",
              "      filter: drop-shadow(0px 1px 2px rgba(0, 0, 0, 0.3));\n",
              "      fill: #FFFFFF;\n",
              "    }\n",
              "  </style>\n",
              "\n",
              "      <script>\n",
              "        const buttonEl =\n",
              "          document.querySelector('#df-8f4570bf-01f2-4b38-b183-7bcde1a18ed0 button.colab-df-convert');\n",
              "        buttonEl.style.display =\n",
              "          google.colab.kernel.accessAllowed ? 'block' : 'none';\n",
              "\n",
              "        async function convertToInteractive(key) {\n",
              "          const element = document.querySelector('#df-8f4570bf-01f2-4b38-b183-7bcde1a18ed0');\n",
              "          const dataTable =\n",
              "            await google.colab.kernel.invokeFunction('convertToInteractive',\n",
              "                                                     [key], {});\n",
              "          if (!dataTable) return;\n",
              "\n",
              "          const docLinkHtml = 'Like what you see? Visit the ' +\n",
              "            '<a target=\"_blank\" href=https://colab.research.google.com/notebooks/data_table.ipynb>data table notebook</a>'\n",
              "            + ' to learn more about interactive tables.';\n",
              "          element.innerHTML = '';\n",
              "          dataTable['output_type'] = 'display_data';\n",
              "          await google.colab.output.renderOutput(dataTable, element);\n",
              "          const docLink = document.createElement('div');\n",
              "          docLink.innerHTML = docLinkHtml;\n",
              "          element.appendChild(docLink);\n",
              "        }\n",
              "      </script>\n",
              "    </div>\n",
              "  </div>\n",
              "  "
            ]
          },
          "metadata": {},
          "execution_count": 8
        }
      ],
      "source": [
        "#checking descriptive statistics \n",
        "df.describe().T"
      ]
    },
    {
      "cell_type": "markdown",
      "metadata": {
        "id": "noXl_cz1pmUf"
      },
      "source": [
        "## **Corrlation heatmap**"
      ]
    },
    {
      "cell_type": "code",
      "execution_count": 9,
      "metadata": {
        "colab": {
          "base_uri": "https://localhost:8080/",
          "height": 1000
        },
        "id": "vZbWLB87nHde",
        "outputId": "d3c9db3d-62c2-424e-f2e2-6bf7f8771d5d"
      },
      "outputs": [
        {
          "output_type": "display_data",
          "data": {
            "text/plain": [
              "<Figure size 1440x864 with 2 Axes>"
            ],
            "image/png": "[encoded data removed]"
          },
          "metadata": {}
        }
      ],
      "source": [
        "#plotting correlation heatmap\n",
        "plt.figure(figsize=(20,12))\n",
        "sns.heatmap(df.corr(),annot=True,fmt = '.2f',cmap='Blues')\n",
        "plt.xticks(fontsize=14)\n",
        "plt.yticks(fontsize=14)\n",
        "plt.title('Correlation heatmap');"
      ]
    },
    {
      "cell_type": "markdown",
      "metadata": {
        "id": "OPFylyZVqQyc"
      },
      "source": [
        "* high_risk_applicant has high positive corrleation with months_loan_taken_for, principal_loan_amount. It's obvious that risk of making a default is depends on how much month loan has taken for how much loan is taken. \n",
        "* Years_at_current_residance and primary_applicant_age_in_years have high corrleation with each other. If someone is staying at current residence it mean they are also aging.\n",
        "* As we can principal loan amount and for month loan is taken for has higher correlation which is obvious if someone taking high loan amount it will also required more months to repay it, we are dropping them."
      ]
    },
    {
      "cell_type": "markdown",
      "metadata": {
        "id": "ZNOPQlqEuG0K"
      },
      "source": [
        "## **Feature Engineering**\n",
        "\n",
        "* We will first bin the age, number of month loan taken  column into some part categories. \n",
        "* Then we will convert categorical features into numerical feature using get dummies technique.\n",
        "* Then We wil use some scaling techniques to transform all the features on similar scale.\n",
        "* Handling missing values and dropping features we had already done that in EDA.\n"
      ]
    },
    {
      "cell_type": "code",
      "execution_count": 9,
      "metadata": {
        "id": "EgfXCtn51A5Z"
      },
      "outputs": [],
      "source": []
    },
    {
      "cell_type": "code",
      "execution_count": 10,
      "metadata": {
        "colab": {
          "base_uri": "https://localhost:8080/"
        },
        "id": "RwrCXtEFp-rZ",
        "outputId": "a86de218-02af-4a4b-c2be-2b8c33b2c5b7"
      },
      "outputs": [
        {
          "output_type": "stream",
          "name": "stdout",
          "text": [
            "Unique values in categorical columns Gender are: ['male' 'female'] and number of categories are 2 \n",
            "\n",
            "Unique values in categorical columns Marital_status are: ['single' 'divorced/separated/married' 'divorced/separated'\n",
            " 'married/widowed'] and number of categories are 4 \n",
            "\n",
            "Unique values in categorical columns Housing are: ['own' 'for free' 'rent'] and number of categories are 3 \n",
            "\n",
            "Unique values in categorical columns Employment_status are: ['skilled employee / official' 'unskilled - resident'\n",
            " 'management / self-employed / highly qualified employee / officer'\n",
            " 'unemployed / unskilled - non-resident'] and number of categories are 4 \n",
            "\n",
            "Unique values in categorical columns Has_been_employed_for_at_least are: ['7 years' '1 year' '4 years' '0 year'] and number of categories are 4 \n",
            "\n",
            "Unique values in categorical columns Has_been_employed_for_at_most are: ['7 years' '4 years' '0 year' '1 year'] and number of categories are 4 \n",
            "\n",
            "Unique values in categorical columns Savings_account_balance are: ['Low' 'High' 'Very high' 'Medium'] and number of categories are 4 \n",
            "\n",
            "Unique values in categorical columns Purpose are: ['electronic equipment' 'education' 'FF&E' 'new vehicle' 'used vehicle'\n",
            " 'business' 'domestic appliances' 'repair costs' 'career development'] and number of categories are 9 \n",
            "\n",
            "Unique values in categorical columns Property are: ['real estate' 'building society savings agreement/life insurance'\n",
            " 'car or other'] and number of categories are 3 \n",
            "\n",
            "Unique values in categorical columns Loan_history are: ['critical/pending loans at other banks'\n",
            " 'existing loans paid back duly till now'\n",
            " 'delay in paying off loans in the past'\n",
            " 'no loans taken/all loans paid back duly'\n",
            " 'all loans at this bank paid back duly'] and number of categories are 5 \n",
            "\n"
          ]
        }
      ],
      "source": [
        "#check unique values in categorical columns\n",
        "categorical_columns = df.select_dtypes(include=['object'])\n",
        "for col in categorical_columns:\n",
        "  print(f'Unique values in categorical columns {col} are: {categorical_columns[col].unique()} and number of categories are {len(categorical_columns[col].unique())} \\n')"
      ]
    },
    {
      "cell_type": "code",
      "execution_count": 11,
      "metadata": {
        "colab": {
          "base_uri": "https://localhost:8080/"
        },
        "id": "LbTTjS-dvGn2",
        "outputId": "922ca2b2-d93b-4f32-cbbf-a35593cf63c3"
      },
      "outputs": [
        {
          "output_type": "stream",
          "name": "stdout",
          "text": [
            "Unique values in numerical columns Primary_applicant_age_in_years are: [67 22 49 45 53 35 61 28 25 24 60 32 44 31 48]\n",
            "\n",
            "Unique values in numerical columns Number_of_dependents are: [1 2]\n",
            "\n",
            "Unique values in numerical columns Years_at_current_residence are: [4 2 3 1]\n",
            "\n",
            "Unique values in numerical columns Foreign_worker are: [1 0]\n",
            "\n",
            "Unique values in numerical columns Months_loan_taken_for are: [ 6 48 12 42 24 36 30 15  9 10  7 60 18 45 11]\n",
            "\n",
            "Unique values in numerical columns Principal_loan_amount are: [1169000 5951000 2096000 7882000 4870000 9055000 2835000 6948000 3059000\n",
            " 5234000 1295000 4308000 1567000 1199000 1403000]\n",
            "\n",
            "Unique values in numerical columns EMI_rate_in_percentage_of_disposable_income are: [4 2 3 1]\n",
            "\n",
            "Unique values in numerical columns Has_coapplicant are: [0 1]\n",
            "\n",
            "Unique values in numerical columns Has_guarantor are: [0 1]\n",
            "\n",
            "Unique values in numerical columns Number_of_existing_loans_at_this_bank are: [2 1 3 4]\n",
            "\n",
            "Unique values in numerical columns high_risk_applicant are: [0 1]\n",
            "\n"
          ]
        }
      ],
      "source": [
        "#check unique values in numerical columns\n",
        "numerical_columns = df._get_numeric_data()\n",
        "for col in numerical_columns:\n",
        "  print(f'Unique values in numerical columns {col} are: {numerical_columns[col].unique()[:15]}\\n')"
      ]
    },
    {
      "cell_type": "markdown",
      "metadata": {
        "id": "5m2mRVy3vvin"
      },
      "source": [
        "* from above we can see that for Primary_applicant_age_in_years, Months_loan_taken_for have values in higher dimension so we will binned them in some less categories to reduce number of features as they can be treated as an category."
      ]
    },
    {
      "cell_type": "code",
      "execution_count": 12,
      "metadata": {
        "id": "1qMRpe8LvSHG"
      },
      "outputs": [],
      "source": [
        "#Creating bins of age to distribute age range in three categories\n",
        "# As age rnages from 19 to 75 we will divide t into three categories youth, middle age and senior citizen\n",
        "df['applicant_age'] = np.nan\n",
        "df.loc[df.Primary_applicant_age_in_years<=30,'applicant_age'] = 'youth'\n",
        "df.loc[(df.Primary_applicant_age_in_years > 31) & (df.Primary_applicant_age_in_years < 60), 'applicant_age'] = 'middle_age'\n",
        "df.loc[(df.Primary_applicant_age_in_years >=60 ), 'applicant_age'] = 'senior_citizen'\n"
      ]
    },
    {
      "cell_type": "code",
      "execution_count": 13,
      "metadata": {
        "id": "yWTB64PRycMs"
      },
      "outputs": [],
      "source": [
        "#Creating bins of Months_loan_taken_for to distribute range in three categories\n",
        "# As Months_loan_taken_for ranges from 4 to 72, we will divide it into three catgories, 1-12 months, 12-24 months and greather than 24month \n",
        "df['loan_duration'] = np.nan\n",
        "df.loc[df.Months_loan_taken_for<=12,'loan_duration'] = '1_12_month'\n",
        "df.loc[(df.Months_loan_taken_for > 12) & (df.Months_loan_taken_for < 25), 'loan_duration'] = '12_24_month'\n",
        "df.loc[(df.Months_loan_taken_for >24 ), 'loan_duration'] = 'greater_than_24_month'\n"
      ]
    },
    {
      "cell_type": "markdown",
      "metadata": {
        "id": "2wzUGAiW0crg"
      },
      "source": [
        "Now we had created categories from age and month loan taken for we can drop this column."
      ]
    },
    {
      "cell_type": "code",
      "execution_count": 14,
      "metadata": {
        "id": "7L3sn9OWyiF9"
      },
      "outputs": [],
      "source": [
        "#selectig columns to do one hot encoding\n",
        "col_for_one_hot_encoding = ['Gender','Marital_status','Housing','Employment_status','Has_been_employed_for_at_least','Has_been_employed_for_at_most',\n",
        " 'Savings_account_balance','Purpose','Property','Loan_history','Number_of_dependents','Years_at_current_residence',\n",
        " 'EMI_rate_in_percentage_of_disposable_income','Number_of_existing_loans_at_this_bank','applicant_age','loan_duration']"
      ]
    },
    {
      "cell_type": "code",
      "execution_count": 15,
      "metadata": {
        "id": "weOvD70K1xb4"
      },
      "outputs": [],
      "source": [
        "#one hot encoding using get dummies and setting drop first true to avoid dummy variable trap\n",
        "df = pd.get_dummies(df,columns=col_for_one_hot_encoding, drop_first=True)"
      ]
    },
    {
      "cell_type": "code",
      "execution_count": 16,
      "metadata": {
        "colab": {
          "base_uri": "https://localhost:8080/",
          "height": 322
        },
        "id": "sJum5Had0Yu4",
        "outputId": "afad6f9a-c886-4e26-cac0-48e1245dc810"
      },
      "outputs": [
        {
          "output_type": "execute_result",
          "data": {
            "text/plain": [
              "   Primary_applicant_age_in_years  Foreign_worker  Months_loan_taken_for  \\\n",
              "0                              67               1                      6   \n",
              "1                              22               1                     48   \n",
              "2                              49               1                     12   \n",
              "3                              45               1                     42   \n",
              "4                              53               1                     24   \n",
              "\n",
              "   Principal_loan_amount  Has_coapplicant  Has_guarantor  high_risk_applicant  \\\n",
              "0                1169000                0              0                    0   \n",
              "1                5951000                0              0                    1   \n",
              "2                2096000                0              0                    0   \n",
              "3                7882000                0              1                    0   \n",
              "4                4870000                0              0                    1   \n",
              "\n",
              "   Gender_male  Marital_status_divorced/separated/married  \\\n",
              "0            1                                          0   \n",
              "1            0                                          1   \n",
              "2            1                                          0   \n",
              "3            1                                          0   \n",
              "4            1                                          0   \n",
              "\n",
              "   Marital_status_married/widowed  Marital_status_single  Housing_own  \\\n",
              "0                               0                      1            1   \n",
              "1                               0                      0            1   \n",
              "2                               0                      1            1   \n",
              "3                               0                      1            0   \n",
              "4                               0                      1            0   \n",
              "\n",
              "   Housing_rent  Employment_status_skilled employee / official  \\\n",
              "0             0                                              1   \n",
              "1             0                                              1   \n",
              "2             0                                              0   \n",
              "3             0                                              1   \n",
              "4             0                                              1   \n",
              "\n",
              "   Employment_status_unemployed / unskilled - non-resident  \\\n",
              "0                                                  0         \n",
              "1                                                  0         \n",
              "2                                                  0         \n",
              "3                                                  0         \n",
              "4                                                  0         \n",
              "\n",
              "   Employment_status_unskilled - resident  \\\n",
              "0                                       0   \n",
              "1                                       0   \n",
              "2                                       1   \n",
              "3                                       0   \n",
              "4                                       0   \n",
              "\n",
              "   Has_been_employed_for_at_least_1 year  \\\n",
              "0                                      0   \n",
              "1                                      1   \n",
              "2                                      0   \n",
              "3                                      0   \n",
              "4                                      1   \n",
              "\n",
              "   Has_been_employed_for_at_least_4 years  \\\n",
              "0                                       0   \n",
              "1                                       0   \n",
              "2                                       1   \n",
              "3                                       1   \n",
              "4                                       0   \n",
              "\n",
              "   Has_been_employed_for_at_least_7 years  \\\n",
              "0                                       1   \n",
              "1                                       0   \n",
              "2                                       0   \n",
              "3                                       0   \n",
              "4                                       0   \n",
              "\n",
              "   Has_been_employed_for_at_most_1 year  \\\n",
              "0                                     0   \n",
              "1                                     0   \n",
              "2                                     0   \n",
              "3                                     0   \n",
              "4                                     0   \n",
              "\n",
              "   Has_been_employed_for_at_most_4 years  \\\n",
              "0                                      0   \n",
              "1                                      1   \n",
              "2                                      0   \n",
              "3                                      0   \n",
              "4                                      1   \n",
              "\n",
              "   Has_been_employed_for_at_most_7 years  Savings_account_balance_Low  \\\n",
              "0                                      1                            1   \n",
              "1                                      0                            1   \n",
              "2                                      1                            1   \n",
              "3                                      1                            1   \n",
              "4                                      0                            1   \n",
              "\n",
              "   Savings_account_balance_Medium  Savings_account_balance_Very high  \\\n",
              "0                               0                                  0   \n",
              "1                               0                                  0   \n",
              "2                               0                                  0   \n",
              "3                               0                                  0   \n",
              "4                               0                                  0   \n",
              "\n",
              "   Purpose_business  Purpose_career development  Purpose_domestic appliances  \\\n",
              "0                 0                           0                            0   \n",
              "1                 0                           0                            0   \n",
              "2                 0                           0                            0   \n",
              "3                 0                           0                            0   \n",
              "4                 0                           0                            0   \n",
              "\n",
              "   Purpose_education  Purpose_electronic equipment  Purpose_new vehicle  \\\n",
              "0                  0                             1                    0   \n",
              "1                  0                             1                    0   \n",
              "2                  1                             0                    0   \n",
              "3                  0                             0                    0   \n",
              "4                  0                             0                    1   \n",
              "\n",
              "   Purpose_repair costs  Purpose_used vehicle  Property_car or other  \\\n",
              "0                     0                     0                      0   \n",
              "1                     0                     0                      0   \n",
              "2                     0                     0                      0   \n",
              "3                     0                     0                      0   \n",
              "4                     0                     0                      1   \n",
              "\n",
              "   Property_real estate  Loan_history_critical/pending loans at other banks  \\\n",
              "0                     1                                                  1    \n",
              "1                     1                                                  0    \n",
              "2                     1                                                  1    \n",
              "3                     0                                                  0    \n",
              "4                     0                                                  0    \n",
              "\n",
              "   Loan_history_delay in paying off loans in the past  \\\n",
              "0                                                  0    \n",
              "1                                                  0    \n",
              "2                                                  0    \n",
              "3                                                  0    \n",
              "4                                                  1    \n",
              "\n",
              "   Loan_history_existing loans paid back duly till now  \\\n",
              "0                                                  0     \n",
              "1                                                  1     \n",
              "2                                                  0     \n",
              "3                                                  1     \n",
              "4                                                  0     \n",
              "\n",
              "   Loan_history_no loans taken/all loans paid back duly  \\\n",
              "0                                                  0      \n",
              "1                                                  0      \n",
              "2                                                  0      \n",
              "3                                                  0      \n",
              "4                                                  0      \n",
              "\n",
              "   Number_of_dependents_2  Years_at_current_residence_2  \\\n",
              "0                       0                             0   \n",
              "1                       0                             1   \n",
              "2                       1                             0   \n",
              "3                       1                             0   \n",
              "4                       1                             0   \n",
              "\n",
              "   Years_at_current_residence_3  Years_at_current_residence_4  \\\n",
              "0                             0                             1   \n",
              "1                             0                             0   \n",
              "2                             1                             0   \n",
              "3                             0                             1   \n",
              "4                             0                             1   \n",
              "\n",
              "   EMI_rate_in_percentage_of_disposable_income_2  \\\n",
              "0                                              0   \n",
              "1                                              1   \n",
              "2                                              1   \n",
              "3                                              1   \n",
              "4                                              0   \n",
              "\n",
              "   EMI_rate_in_percentage_of_disposable_income_3  \\\n",
              "0                                              0   \n",
              "1                                              0   \n",
              "2                                              0   \n",
              "3                                              0   \n",
              "4                                              1   \n",
              "\n",
              "   EMI_rate_in_percentage_of_disposable_income_4  \\\n",
              "0                                              1   \n",
              "1                                              0   \n",
              "2                                              0   \n",
              "3                                              0   \n",
              "4                                              0   \n",
              "\n",
              "   Number_of_existing_loans_at_this_bank_2  \\\n",
              "0                                        1   \n",
              "1                                        0   \n",
              "2                                        0   \n",
              "3                                        0   \n",
              "4                                        1   \n",
              "\n",
              "   Number_of_existing_loans_at_this_bank_3  \\\n",
              "0                                        0   \n",
              "1                                        0   \n",
              "2                                        0   \n",
              "3                                        0   \n",
              "4                                        0   \n",
              "\n",
              "   Number_of_existing_loans_at_this_bank_4  applicant_age_senior_citizen  \\\n",
              "0                                        0                             1   \n",
              "1                                        0                             0   \n",
              "2                                        0                             0   \n",
              "3                                        0                             0   \n",
              "4                                        0                             0   \n",
              "\n",
              "   applicant_age_youth  loan_duration_1_12_month  \\\n",
              "0                    0                         1   \n",
              "1                    1                         0   \n",
              "2                    0                         1   \n",
              "3                    0                         0   \n",
              "4                    0                         0   \n",
              "\n",
              "   loan_duration_greater_than_24_month  \n",
              "0                                    0  \n",
              "1                                    1  \n",
              "2                                    0  \n",
              "3                                    1  \n",
              "4                                    0  "
            ],
            "text/html": [
              "\n",
              "  <div id=\"df-6c816579-64e3-4205-b0ad-ecc7a95ede06\">\n",
              "    <div class=\"colab-df-container\">\n",
              "      <div>\n",
              "<style scoped>\n",
              "    .dataframe tbody tr th:only-of-type {\n",
              "        vertical-align: middle;\n",
              "    }\n",
              "\n",
              "    .dataframe tbody tr th {\n",
              "        vertical-align: top;\n",
              "    }\n",
              "\n",
              "    .dataframe thead th {\n",
              "        text-align: right;\n",
              "    }\n",
              "</style>\n",
              "<table border=\"1\" class=\"dataframe\">\n",
              "  <thead>\n",
              "    <tr style=\"text-align: right;\">\n",
              "      <th></th>\n",
              "      <th>Primary_applicant_age_in_years</th>\n",
              "      <th>Foreign_worker</th>\n",
              "      <th>Months_loan_taken_for</th>\n",
              "      <th>Principal_loan_amount</th>\n",
              "      <th>Has_coapplicant</th>\n",
              "      <th>Has_guarantor</th>\n",
              "      <th>high_risk_applicant</th>\n",
              "      <th>Gender_male</th>\n",
              "      <th>Marital_status_divorced/separated/married</th>\n",
              "      <th>Marital_status_married/widowed</th>\n",
              "      <th>Marital_status_single</th>\n",
              "      <th>Housing_own</th>\n",
              "      <th>Housing_rent</th>\n",
              "      <th>Employment_status_skilled employee / official</th>\n",
              "      <th>Employment_status_unemployed / unskilled - non-resident</th>\n",
              "      <th>Employment_status_unskilled - resident</th>\n",
              "      <th>Has_been_employed_for_at_least_1 year</th>\n",
              "      <th>Has_been_employed_for_at_least_4 years</th>\n",
              "      <th>Has_been_employed_for_at_least_7 years</th>\n",
              "      <th>Has_been_employed_for_at_most_1 year</th>\n",
              "      <th>Has_been_employed_for_at_most_4 years</th>\n",
              "      <th>Has_been_employed_for_at_most_7 years</th>\n",
              "      <th>Savings_account_balance_Low</th>\n",
              "      <th>Savings_account_balance_Medium</th>\n",
              "      <th>Savings_account_balance_Very high</th>\n",
              "      <th>Purpose_business</th>\n",
              "      <th>Purpose_career development</th>\n",
              "      <th>Purpose_domestic appliances</th>\n",
              "      <th>Purpose_education</th>\n",
              "      <th>Purpose_electronic equipment</th>\n",
              "      <th>Purpose_new vehicle</th>\n",
              "      <th>Purpose_repair costs</th>\n",
              "      <th>Purpose_used vehicle</th>\n",
              "      <th>Property_car or other</th>\n",
              "      <th>Property_real estate</th>\n",
              "      <th>Loan_history_critical/pending loans at other banks</th>\n",
              "      <th>Loan_history_delay in paying off loans in the past</th>\n",
              "      <th>Loan_history_existing loans paid back duly till now</th>\n",
              "      <th>Loan_history_no loans taken/all loans paid back duly</th>\n",
              "      <th>Number_of_dependents_2</th>\n",
              "      <th>Years_at_current_residence_2</th>\n",
              "      <th>Years_at_current_residence_3</th>\n",
              "      <th>Years_at_current_residence_4</th>\n",
              "      <th>EMI_rate_in_percentage_of_disposable_income_2</th>\n",
              "      <th>EMI_rate_in_percentage_of_disposable_income_3</th>\n",
              "      <th>EMI_rate_in_percentage_of_disposable_income_4</th>\n",
              "      <th>Number_of_existing_loans_at_this_bank_2</th>\n",
              "      <th>Number_of_existing_loans_at_this_bank_3</th>\n",
              "      <th>Number_of_existing_loans_at_this_bank_4</th>\n",
              "      <th>applicant_age_senior_citizen</th>\n",
              "      <th>applicant_age_youth</th>\n",
              "      <th>loan_duration_1_12_month</th>\n",
              "      <th>loan_duration_greater_than_24_month</th>\n",
              "    </tr>\n",
              "  </thead>\n",
              "  <tbody>\n",
              "    <tr>\n",
              "      <th>0</th>\n",
              "      <td>67</td>\n",
              "      <td>1</td>\n",
              "      <td>6</td>\n",
              "      <td>1169000</td>\n",
              "      <td>0</td>\n",
              "      <td>0</td>\n",
              "      <td>0</td>\n",
              "      <td>1</td>\n",
              "      <td>0</td>\n",
              "      <td>0</td>\n",
              "      <td>1</td>\n",
              "      <td>1</td>\n",
              "      <td>0</td>\n",
              "      <td>1</td>\n",
              "      <td>0</td>\n",
              "      <td>0</td>\n",
              "      <td>0</td>\n",
              "      <td>0</td>\n",
              "      <td>1</td>\n",
              "      <td>0</td>\n",
              "      <td>0</td>\n",
              "      <td>1</td>\n",
              "      <td>1</td>\n",
              "      <td>0</td>\n",
              "      <td>0</td>\n",
              "      <td>0</td>\n",
              "      <td>0</td>\n",
              "      <td>0</td>\n",
              "      <td>0</td>\n",
              "      <td>1</td>\n",
              "      <td>0</td>\n",
              "      <td>0</td>\n",
              "      <td>0</td>\n",
              "      <td>0</td>\n",
              "      <td>1</td>\n",
              "      <td>1</td>\n",
              "      <td>0</td>\n",
              "      <td>0</td>\n",
              "      <td>0</td>\n",
              "      <td>0</td>\n",
              "      <td>0</td>\n",
              "      <td>0</td>\n",
              "      <td>1</td>\n",
              "      <td>0</td>\n",
              "      <td>0</td>\n",
              "      <td>1</td>\n",
              "      <td>1</td>\n",
              "      <td>0</td>\n",
              "      <td>0</td>\n",
              "      <td>1</td>\n",
              "      <td>0</td>\n",
              "      <td>1</td>\n",
              "      <td>0</td>\n",
              "    </tr>\n",
              "    <tr>\n",
              "      <th>1</th>\n",
              "      <td>22</td>\n",
              "      <td>1</td>\n",
              "      <td>48</td>\n",
              "      <td>5951000</td>\n",
              "      <td>0</td>\n",
              "      <td>0</td>\n",
              "      <td>1</td>\n",
              "      <td>0</td>\n",
              "      <td>1</td>\n",
              "      <td>0</td>\n",
              "      <td>0</td>\n",
              "      <td>1</td>\n",
              "      <td>0</td>\n",
              "      <td>1</td>\n",
              "      <td>0</td>\n",
              "      <td>0</td>\n",
              "      <td>1</td>\n",
              "      <td>0</td>\n",
              "      <td>0</td>\n",
              "      <td>0</td>\n",
              "      <td>1</td>\n",
              "      <td>0</td>\n",
              "      <td>1</td>\n",
              "      <td>0</td>\n",
              "      <td>0</td>\n",
              "      <td>0</td>\n",
              "      <td>0</td>\n",
              "      <td>0</td>\n",
              "      <td>0</td>\n",
              "      <td>1</td>\n",
              "      <td>0</td>\n",
              "      <td>0</td>\n",
              "      <td>0</td>\n",
              "      <td>0</td>\n",
              "      <td>1</td>\n",
              "      <td>0</td>\n",
              "      <td>0</td>\n",
              "      <td>1</td>\n",
              "      <td>0</td>\n",
              "      <td>0</td>\n",
              "      <td>1</td>\n",
              "      <td>0</td>\n",
              "      <td>0</td>\n",
              "      <td>1</td>\n",
              "      <td>0</td>\n",
              "      <td>0</td>\n",
              "      <td>0</td>\n",
              "      <td>0</td>\n",
              "      <td>0</td>\n",
              "      <td>0</td>\n",
              "      <td>1</td>\n",
              "      <td>0</td>\n",
              "      <td>1</td>\n",
              "    </tr>\n",
              "    <tr>\n",
              "      <th>2</th>\n",
              "      <td>49</td>\n",
              "      <td>1</td>\n",
              "      <td>12</td>\n",
              "      <td>2096000</td>\n",
              "      <td>0</td>\n",
              "      <td>0</td>\n",
              "      <td>0</td>\n",
              "      <td>1</td>\n",
              "      <td>0</td>\n",
              "      <td>0</td>\n",
              "      <td>1</td>\n",
              "      <td>1</td>\n",
              "      <td>0</td>\n",
              "      <td>0</td>\n",
              "      <td>0</td>\n",
              "      <td>1</td>\n",
              "      <td>0</td>\n",
              "      <td>1</td>\n",
              "      <td>0</td>\n",
              "      <td>0</td>\n",
              "      <td>0</td>\n",
              "      <td>1</td>\n",
              "      <td>1</td>\n",
              "      <td>0</td>\n",
              "      <td>0</td>\n",
              "      <td>0</td>\n",
              "      <td>0</td>\n",
              "      <td>0</td>\n",
              "      <td>1</td>\n",
              "      <td>0</td>\n",
              "      <td>0</td>\n",
              "      <td>0</td>\n",
              "      <td>0</td>\n",
              "      <td>0</td>\n",
              "      <td>1</td>\n",
              "      <td>1</td>\n",
              "      <td>0</td>\n",
              "      <td>0</td>\n",
              "      <td>0</td>\n",
              "      <td>1</td>\n",
              "      <td>0</td>\n",
              "      <td>1</td>\n",
              "      <td>0</td>\n",
              "      <td>1</td>\n",
              "      <td>0</td>\n",
              "      <td>0</td>\n",
              "      <td>0</td>\n",
              "      <td>0</td>\n",
              "      <td>0</td>\n",
              "      <td>0</td>\n",
              "      <td>0</td>\n",
              "      <td>1</td>\n",
              "      <td>0</td>\n",
              "    </tr>\n",
              "    <tr>\n",
              "      <th>3</th>\n",
              "      <td>45</td>\n",
              "      <td>1</td>\n",
              "      <td>42</td>\n",
              "      <td>7882000</td>\n",
              "      <td>0</td>\n",
              "      <td>1</td>\n",
              "      <td>0</td>\n",
              "      <td>1</td>\n",
              "      <td>0</td>\n",
              "      <td>0</td>\n",
              "      <td>1</td>\n",
              "      <td>0</td>\n",
              "      <td>0</td>\n",
              "      <td>1</td>\n",
              "      <td>0</td>\n",
              "      <td>0</td>\n",
              "      <td>0</td>\n",
              "      <td>1</td>\n",
              "      <td>0</td>\n",
              "      <td>0</td>\n",
              "      <td>0</td>\n",
              "      <td>1</td>\n",
              "      <td>1</td>\n",
              "      <td>0</td>\n",
              "      <td>0</td>\n",
              "      <td>0</td>\n",
              "      <td>0</td>\n",
              "      <td>0</td>\n",
              "      <td>0</td>\n",
              "      <td>0</td>\n",
              "      <td>0</td>\n",
              "      <td>0</td>\n",
              "      <td>0</td>\n",
              "      <td>0</td>\n",
              "      <td>0</td>\n",
              "      <td>0</td>\n",
              "      <td>0</td>\n",
              "      <td>1</td>\n",
              "      <td>0</td>\n",
              "      <td>1</td>\n",
              "      <td>0</td>\n",
              "      <td>0</td>\n",
              "      <td>1</td>\n",
              "      <td>1</td>\n",
              "      <td>0</td>\n",
              "      <td>0</td>\n",
              "      <td>0</td>\n",
              "      <td>0</td>\n",
              "      <td>0</td>\n",
              "      <td>0</td>\n",
              "      <td>0</td>\n",
              "      <td>0</td>\n",
              "      <td>1</td>\n",
              "    </tr>\n",
              "    <tr>\n",
              "      <th>4</th>\n",
              "      <td>53</td>\n",
              "      <td>1</td>\n",
              "      <td>24</td>\n",
              "      <td>4870000</td>\n",
              "      <td>0</td>\n",
              "      <td>0</td>\n",
              "      <td>1</td>\n",
              "      <td>1</td>\n",
              "      <td>0</td>\n",
              "      <td>0</td>\n",
              "      <td>1</td>\n",
              "      <td>0</td>\n",
              "      <td>0</td>\n",
              "      <td>1</td>\n",
              "      <td>0</td>\n",
              "      <td>0</td>\n",
              "      <td>1</td>\n",
              "      <td>0</td>\n",
              "      <td>0</td>\n",
              "      <td>0</td>\n",
              "      <td>1</td>\n",
              "      <td>0</td>\n",
              "      <td>1</td>\n",
              "      <td>0</td>\n",
              "      <td>0</td>\n",
              "      <td>0</td>\n",
              "      <td>0</td>\n",
              "      <td>0</td>\n",
              "      <td>0</td>\n",
              "      <td>0</td>\n",
              "      <td>1</td>\n",
              "      <td>0</td>\n",
              "      <td>0</td>\n",
              "      <td>1</td>\n",
              "      <td>0</td>\n",
              "      <td>0</td>\n",
              "      <td>1</td>\n",
              "      <td>0</td>\n",
              "      <td>0</td>\n",
              "      <td>1</td>\n",
              "      <td>0</td>\n",
              "      <td>0</td>\n",
              "      <td>1</td>\n",
              "      <td>0</td>\n",
              "      <td>1</td>\n",
              "      <td>0</td>\n",
              "      <td>1</td>\n",
              "      <td>0</td>\n",
              "      <td>0</td>\n",
              "      <td>0</td>\n",
              "      <td>0</td>\n",
              "      <td>0</td>\n",
              "      <td>0</td>\n",
              "    </tr>\n",
              "  </tbody>\n",
              "</table>\n",
              "</div>\n",
              "      <button class=\"colab-df-convert\" onclick=\"convertToInteractive('df-6c816579-64e3-4205-b0ad-ecc7a95ede06')\"\n",
              "              title=\"Convert this dataframe to an interactive table.\"\n",
              "              style=\"display:none;\">\n",
              "        \n",
              "  <svg xmlns=\"http://www.w3.org/2000/svg\" height=\"24px\"viewBox=\"0 0 24 24\"\n",
              "       width=\"24px\">\n",
              "    <path d=\"M0 0h24v24H0V0z\" fill=\"none\"/>\n",
              "    <path d=\"M18.56 5.44l.94 2.06.94-2.06 2.06-.94-2.06-.94-.94-2.06-.94 2.06-2.06.94zm-11 1L8.5 8.5l.94-2.06 2.06-.94-2.06-.94L8.5 2.5l-.94 2.06-2.06.94zm10 10l.94 2.06.94-2.06 2.06-.94-2.06-.94-.94-2.06-.94 2.06-2.06.94z\"/><path d=\"M17.41 7.96l-1.37-1.37c-.4-.4-.92-.59-1.43-.59-.52 0-1.04.2-1.43.59L10.3 9.45l-7.72 7.72c-.78.78-.78 2.05 0 2.83L4 21.41c.39.39.9.59 1.41.59.51 0 1.02-.2 1.41-.59l7.78-7.78 2.81-2.81c.8-.78.8-2.07 0-2.86zM5.41 20L4 18.59l7.72-7.72 1.47 1.35L5.41 20z\"/>\n",
              "  </svg>\n",
              "      </button>\n",
              "      \n",
              "  <style>\n",
              "    .colab-df-container {\n",
              "      display:flex;\n",
              "      flex-wrap:wrap;\n",
              "      gap: 12px;\n",
              "    }\n",
              "\n",
              "    .colab-df-convert {\n",
              "      background-color: #E8F0FE;\n",
              "      border: none;\n",
              "      border-radius: 50%;\n",
              "      cursor: pointer;\n",
              "      display: none;\n",
              "      fill: #1967D2;\n",
              "      height: 32px;\n",
              "      padding: 0 0 0 0;\n",
              "      width: 32px;\n",
              "    }\n",
              "\n",
              "    .colab-df-convert:hover {\n",
              "      background-color: #E2EBFA;\n",
              "      box-shadow: 0px 1px 2px rgba(60, 64, 67, 0.3), 0px 1px 3px 1px rgba(60, 64, 67, 0.15);\n",
              "      fill: #174EA6;\n",
              "    }\n",
              "\n",
              "    [theme=dark] .colab-df-convert {\n",
              "      background-color: #3B4455;\n",
              "      fill: #D2E3FC;\n",
              "    }\n",
              "\n",
              "    [theme=dark] .colab-df-convert:hover {\n",
              "      background-color: #434B5C;\n",
              "      box-shadow: 0px 1px 3px 1px rgba(0, 0, 0, 0.15);\n",
              "      filter: drop-shadow(0px 1px 2px rgba(0, 0, 0, 0.3));\n",
              "      fill: #FFFFFF;\n",
              "    }\n",
              "  </style>\n",
              "\n",
              "      <script>\n",
              "        const buttonEl =\n",
              "          document.querySelector('#df-6c816579-64e3-4205-b0ad-ecc7a95ede06 button.colab-df-convert');\n",
              "        buttonEl.style.display =\n",
              "          google.colab.kernel.accessAllowed ? 'block' : 'none';\n",
              "\n",
              "        async function convertToInteractive(key) {\n",
              "          const element = document.querySelector('#df-6c816579-64e3-4205-b0ad-ecc7a95ede06');\n",
              "          const dataTable =\n",
              "            await google.colab.kernel.invokeFunction('convertToInteractive',\n",
              "                                                     [key], {});\n",
              "          if (!dataTable) return;\n",
              "\n",
              "          const docLinkHtml = 'Like what you see? Visit the ' +\n",
              "            '<a target=\"_blank\" href=https://colab.research.google.com/notebooks/data_table.ipynb>data table notebook</a>'\n",
              "            + ' to learn more about interactive tables.';\n",
              "          element.innerHTML = '';\n",
              "          dataTable['output_type'] = 'display_data';\n",
              "          await google.colab.output.renderOutput(dataTable, element);\n",
              "          const docLink = document.createElement('div');\n",
              "          docLink.innerHTML = docLinkHtml;\n",
              "          element.appendChild(docLink);\n",
              "        }\n",
              "      </script>\n",
              "    </div>\n",
              "  </div>\n",
              "  "
            ]
          },
          "metadata": {},
          "execution_count": 16
        }
      ],
      "source": [
        "df.head()"
      ]
    },
    {
      "cell_type": "markdown",
      "metadata": {
        "id": "gui6W-1839VH"
      },
      "source": [
        "Now we have transformed categorical features into numerical features now let's drop some redunddant columns like age and months loan taken for."
      ]
    },
    {
      "cell_type": "code",
      "execution_count": 17,
      "metadata": {
        "id": "ULl1oIG-3coG"
      },
      "outputs": [],
      "source": [
        "df.drop(columns = ['Primary_applicant_age_in_years','Months_loan_taken_for'], inplace=True)"
      ]
    },
    {
      "cell_type": "markdown",
      "metadata": {
        "id": "9jJfTMN56REX"
      },
      "source": [
        "# **Model Training and Testing**"
      ]
    },
    {
      "cell_type": "code",
      "execution_count": 18,
      "metadata": {
        "colab": {
          "base_uri": "https://localhost:8080/",
          "height": 266
        },
        "id": "NxR7JHqQ3wxA",
        "outputId": "e80dd1e6-b1cd-42b8-8e23-c187f5899a76"
      },
      "outputs": [
        {
          "output_type": "display_data",
          "data": {
            "text/plain": [
              "<Figure size 432x288 with 1 Axes>"
            ],
            "image/png": "[encoded data removed]"
          },
          "metadata": {}
        }
      ],
      "source": [
        "#checking Target variable distribution\n",
        "\n",
        "df['high_risk_applicant'].value_counts().plot(kind='bar');"
      ]
    },
    {
      "cell_type": "markdown",
      "metadata": {
        "id": "nj8m77KX5LWY"
      },
      "source": [
        "We can see there is a class imbalance in our dataset "
      ]
    },
    {
      "cell_type": "code",
      "execution_count": 19,
      "metadata": {
        "id": "QVUg4Hbk6V6a"
      },
      "outputs": [],
      "source": [
        "#importing all the required ML packages\n",
        "from sklearn.model_selection import train_test_split #training and testing data split\n",
        "from sklearn.linear_model import LogisticRegression #logistic regression\n",
        "from sklearn.ensemble import RandomForestClassifier #Random Forest\n",
        "from sklearn.tree import DecisionTreeClassifier #Decision Tree\n",
        "from sklearn.metrics import accuracy_score\n",
        "from sklearn.metrics import confusion_matrix #for confusion matrix\n",
        "from sklearn.metrics import classification_report, precision_score, recall_score\n",
        "from sklearn.preprocessing import MinMaxScaler #for feature scaling\n",
        "import xgboost as xgb\n",
        "#importing roc curve and roc auc score\n",
        "from sklearn.metrics import roc_curve,roc_auc_score\n",
        "#importing library for hyperparameter tuning\n",
        "from sklearn.model_selection import GridSearchCV"
      ]
    },
    {
      "cell_type": "code",
      "execution_count": 20,
      "metadata": {
        "id": "G3TmasNd62xS"
      },
      "outputs": [],
      "source": [
        "#removing target variable from data frame to seperate feature and target\n",
        "features = df.drop('high_risk_applicant',axis=1)"
      ]
    },
    {
      "cell_type": "code",
      "execution_count": 21,
      "metadata": {
        "colab": {
          "base_uri": "https://localhost:8080/"
        },
        "id": "BEGMqxZo7Lcl",
        "outputId": "2297b62e-3d08-43a2-967a-f129888f9641"
      },
      "outputs": [
        {
          "output_type": "execute_result",
          "data": {
            "text/plain": [
              "(1000, 50)"
            ]
          },
          "metadata": {},
          "execution_count": 21
        }
      ],
      "source": [
        "features.shape"
      ]
    },
    {
      "cell_type": "code",
      "execution_count": 22,
      "metadata": {
        "id": "d4mYEUj27FdN"
      },
      "outputs": [],
      "source": [
        "#target variable\n",
        "target = df['high_risk_applicant']"
      ]
    },
    {
      "cell_type": "code",
      "execution_count": 23,
      "metadata": {
        "colab": {
          "base_uri": "https://localhost:8080/"
        },
        "id": "5_ltt8xM7RvA",
        "outputId": "ed8b14a0-546f-4260-865a-19489ee85564"
      },
      "outputs": [
        {
          "output_type": "execute_result",
          "data": {
            "text/plain": [
              "(1000,)"
            ]
          },
          "metadata": {},
          "execution_count": 23
        }
      ],
      "source": [
        "target.shape"
      ]
    },
    {
      "cell_type": "code",
      "execution_count": 24,
      "metadata": {
        "id": "yoSDP2xF7UQL"
      },
      "outputs": [],
      "source": [
        "#splitting data into train test split\n",
        "X_train, X_test, y_train, y_test = train_test_split(features,target , test_size = 0.3, random_state = 42, stratify =target) "
      ]
    },
    {
      "cell_type": "markdown",
      "metadata": {
        "id": "G2prj4ue-U4s"
      },
      "source": [
        "## **Random Over-Sampling**\n",
        "* Oversampling can be defined as adding more copies to the minority class.\n",
        "* Oversampling can be a good choice when you don’t have a ton of data to work with."
      ]
    },
    {
      "cell_type": "code",
      "execution_count": 25,
      "metadata": {
        "colab": {
          "base_uri": "https://localhost:8080/"
        },
        "id": "44RePXzO-ffP",
        "outputId": "82f81d12-918c-4562-deb3-38e9d705182e"
      },
      "outputs": [
        {
          "output_type": "execute_result",
          "data": {
            "text/plain": [
              "0    700\n",
              "1    300\n",
              "Name: high_risk_applicant, dtype: int64"
            ]
          },
          "metadata": {},
          "execution_count": 25
        }
      ],
      "source": [
        "df['high_risk_applicant'].value_counts()"
      ]
    },
    {
      "cell_type": "code",
      "execution_count": 26,
      "metadata": {
        "colab": {
          "base_uri": "https://localhost:8080/"
        },
        "id": "ZWDnr-Hl-Ojw",
        "outputId": "867219b7-ed31-4544-b499-ebbffe8eb120"
      },
      "outputs": [
        {
          "output_type": "stream",
          "name": "stdout",
          "text": [
            "Original dataset shape 700\n",
            "Resampled dataset shape 980 980\n"
          ]
        }
      ],
      "source": [
        "#importing library required for resampling\n",
        "from imblearn.over_sampling import RandomOverSampler,SVMSMOTE\n",
        "Random = RandomOverSampler()\n",
        "# Random = SVMSMOTE()\n",
        "# from imblearn.over_sampling import SMOTE\n",
        "# smote = SMOTE()\n",
        "# fit predictor and target variable\n",
        "x_trainr, y_trainr = Random.fit_resample(X_train,y_train)\n",
        "\n",
        "\n",
        "print('Original dataset shape', len(y_train))\n",
        "print('Resampled dataset shape', len(y_trainr),len(y_trainr)) "
      ]
    },
    {
      "cell_type": "markdown",
      "metadata": {
        "id": "pFr3Qdng_PUR"
      },
      "source": [
        "## **Feature Scaling**\n",
        "Feature Scaling is a technique to normalize/standardize the independent features present in the dataset in a fixed range."
      ]
    },
    {
      "cell_type": "code",
      "execution_count": 27,
      "metadata": {
        "id": "j9Ab-ZlJ_ODN"
      },
      "outputs": [],
      "source": [
        "#importing library required for scaling\n",
        "from sklearn.preprocessing import MinMaxScaler,StandardScaler\n",
        "scaler = StandardScaler()\n",
        "x_trainr = scaler.fit_transform(x_trainr)\n",
        "X_test = scaler.transform(X_test)"
      ]
    },
    {
      "cell_type": "markdown",
      "metadata": {
        "id": "KEGxzx3YCxd7"
      },
      "source": [
        "# **Logistic Regression** "
      ]
    },
    {
      "cell_type": "code",
      "execution_count": 28,
      "metadata": {
        "colab": {
          "base_uri": "https://localhost:8080/"
        },
        "id": "nN-j6biK4fU0",
        "outputId": "3e8f11e5-5854-45d3-9a20-844519cb7ee6"
      },
      "outputs": [
        {
          "output_type": "execute_result",
          "data": {
            "text/plain": [
              "LogisticRegression()"
            ]
          },
          "metadata": {},
          "execution_count": 28
        }
      ],
      "source": [
        "#training logistic regression model\n",
        "LR = LogisticRegression()\n",
        "LR.fit(x_trainr,y_trainr)"
      ]
    },
    {
      "cell_type": "code",
      "execution_count": 29,
      "metadata": {
        "colab": {
          "base_uri": "https://localhost:8080/"
        },
        "id": "h4GKwZkW9DTb",
        "outputId": "49e30e98-725c-49c3-9697-7f4dce5902c2"
      },
      "outputs": [
        {
          "output_type": "stream",
          "name": "stdout",
          "text": [
            "(980, 50)\n",
            "(300, 50)\n"
          ]
        }
      ],
      "source": [
        "#checking shape of train and test data\n",
        "print(x_trainr.shape)\n",
        "print(X_test.shape)"
      ]
    },
    {
      "cell_type": "code",
      "execution_count": 30,
      "metadata": {
        "id": "HtXS9IIH8om0"
      },
      "outputs": [],
      "source": [
        "y_pred = LR.predict(X_test)\n",
        "y_pred_train = LR.predict(x_trainr)"
      ]
    },
    {
      "cell_type": "code",
      "execution_count": 31,
      "metadata": {
        "id": "_d7vmMMH82OQ"
      },
      "outputs": [],
      "source": [
        "# create a function to print metrics of a model\n",
        "def model_metrics(model,X_train,y_train,y_test,y_pred,y_pred_train):\n",
        "  '''This function takes six arguments and print model metrics like\n",
        "     model\n",
        "     Train score\n",
        "     Test score\n",
        "     Classification Report(train and test)\n",
        "     Confussion Matrix\n",
        "\n",
        "  '''\n",
        "  #check model performance and metrics\n",
        "  print(f'Train Score :{model.score(X_train,y_train)}')\n",
        "  print(f'Test score :{accuracy_score(y_test,y_pred)}')\n",
        "  print(f'precision_score: {precision_score(y_test,y_pred)}')\n",
        "  print(f'recall_score: {recall_score(y_test,y_pred)}')\n",
        "  #to print one blank line\n",
        "  print('Classification report for Training')\n",
        "  print(classification_report(y_train,y_pred_train))\n",
        "  print('Classification report for Testing')\n",
        "  print(classification_report(y_test,y_pred))\n",
        "  conf_matrix = confusion_matrix(y_test,y_pred)\n",
        "  print()\n",
        "\n",
        "  #plotting confussion matrix\n",
        "  ax=sns.heatmap(conf_matrix,annot=True,cmap='Blues',fmt='d')\n",
        "  ax.set_xlabel('\\n Predicted Values')\n",
        "  ax.set_ylabel('Actual values')\n",
        "  ax.set_title('Confusion Matrix')\n",
        "  # labels \n",
        "  ax.xaxis.set_ticklabels(['0','1'])\n",
        "  ax.yaxis.set_ticklabels(['0','1']);"
      ]
    },
    {
      "cell_type": "code",
      "execution_count": 32,
      "metadata": {
        "id": "kcDNxI7hEv_0"
      },
      "outputs": [],
      "source": [
        "#import roc curve and roc auc score\n",
        "from sklearn.metrics import roc_curve,roc_auc_score\n",
        "#creating a function to print roc curve\n",
        "def plot_roc_curve(fpr,tpr,auc_score):\n",
        "  '''It takes three argument and plot roc curve and auc score\n",
        "  '''\n",
        "\n",
        "  plt.figure(figsize=(8,4))\n",
        "  plt.plot(fpr,tpr,label='auc_score =' +str(auc_score))\n",
        "  plt.xlabel('False Positive Rate')\n",
        "  plt.ylabel('True Positive Rate')\n",
        "  plt.legend(loc=4)\n",
        "  plt.title('ROC curve') \n",
        "  plt.show()"
      ]
    },
    {
      "cell_type": "code",
      "execution_count": 33,
      "metadata": {
        "colab": {
          "base_uri": "https://localhost:8080/",
          "height": 774
        },
        "id": "S7R_fHTNCYv0",
        "outputId": "7cbefde5-7130-4efa-c028-eb23cf11a25c"
      },
      "outputs": [
        {
          "output_type": "stream",
          "name": "stdout",
          "text": [
            "Train Score :0.7295918367346939\n",
            "Test score :0.68\n",
            "precision_score: 0.4765625\n",
            "recall_score: 0.6777777777777778\n",
            "Classification report for Training\n",
            "              precision    recall  f1-score   support\n",
            "\n",
            "           0       0.74      0.71      0.72       490\n",
            "           1       0.72      0.75      0.73       490\n",
            "\n",
            "    accuracy                           0.73       980\n",
            "   macro avg       0.73      0.73      0.73       980\n",
            "weighted avg       0.73      0.73      0.73       980\n",
            "\n",
            "Classification report for Testing\n",
            "              precision    recall  f1-score   support\n",
            "\n",
            "           0       0.83      0.68      0.75       210\n",
            "           1       0.48      0.68      0.56        90\n",
            "\n",
            "    accuracy                           0.68       300\n",
            "   macro avg       0.65      0.68      0.65       300\n",
            "weighted avg       0.72      0.68      0.69       300\n",
            "\n",
            "\n"
          ]
        },
        {
          "output_type": "display_data",
          "data": {
            "text/plain": [
              "<Figure size 432x288 with 2 Axes>"
            ],
            "image/png": "[encoded data removed]"
          },
          "metadata": {}
        }
      ],
      "source": [
        "model_metrics(LR,x_trainr,y_trainr,y_test,y_pred,y_pred_train)"
      ]
    },
    {
      "cell_type": "code",
      "execution_count": 34,
      "metadata": {
        "id": "9eOqTG2pCpp-"
      },
      "outputs": [],
      "source": [
        " #selecting parameter for hyperparameter tuning\n",
        "\n",
        "parameter ={'penalty':['l1','l2','elasticnet'],\n",
        "             'C':[1,2,3,4,5],\n",
        "             'max_iter':[100,150,200]}\n",
        "\n"
      ]
    },
    {
      "cell_type": "markdown",
      "metadata": {
        "id": "Q5ekGFHBDCGI"
      },
      "source": [
        "## **GriSearchCV on Logistic Regression** \n",
        "\n",
        "GridSearchCV is the process of performing hyperparameter tuning in order to determine the optimal values for a given model. As mentioned above, the performance of a model significantly depends on the value of hyperparameters. Note that there is no way to know in advance the best values for hyperparameters so ideally, we need to try all possible values to know the optimal values. Doing this manually could take a considerable amount of time and resources and thus we use GridSearchCV to automate the tuning of hyperparameters."
      ]
    },
    {
      "cell_type": "code",
      "execution_count": 35,
      "metadata": {
        "colab": {
          "base_uri": "https://localhost:8080/"
        },
        "id": "6I0umll1DEth",
        "outputId": "e271e064-3a2c-4b9f-b9d1-c0b6b3072ef4"
      },
      "outputs": [
        {
          "output_type": "stream",
          "name": "stdout",
          "text": [
            "Fitting 20 folds for each of 45 candidates, totalling 900 fits\n"
          ]
        },
        {
          "output_type": "execute_result",
          "data": {
            "text/plain": [
              "GridSearchCV(cv=20, estimator=LogisticRegression(),\n",
              "             param_grid={'C': [1, 2, 3, 4, 5], 'max_iter': [100, 150, 200],\n",
              "                         'penalty': ['l1', 'l2', 'elasticnet']},\n",
              "             verbose=1)"
            ]
          },
          "metadata": {},
          "execution_count": 35
        }
      ],
      "source": [
        "#hyperparameter tuning on Logistic regression\n",
        "LR = LogisticRegression()\n",
        "LR_Grid = GridSearchCV(LR,param_grid=parameter,cv=20,verbose=1)\n",
        "LR_Grid.fit(x_trainr,y_trainr)\n"
      ]
    },
    {
      "cell_type": "code",
      "execution_count": 36,
      "metadata": {
        "colab": {
          "base_uri": "https://localhost:8080/"
        },
        "id": "uAhy1n_LDOGt",
        "outputId": "b59ad541-8587-492b-df2c-951cddb7b614"
      },
      "outputs": [
        {
          "output_type": "execute_result",
          "data": {
            "text/plain": [
              "{'C': 1, 'max_iter': 100, 'penalty': 'l2'}"
            ]
          },
          "metadata": {},
          "execution_count": 36
        }
      ],
      "source": [
        "# let's check best parameter for model\n",
        "LR_Grid.best_params_"
      ]
    },
    {
      "cell_type": "code",
      "execution_count": 37,
      "metadata": {
        "id": "BH0OKmGOO_7U"
      },
      "outputs": [],
      "source": [
        "y_pred_LR_Grid = LR_Grid.predict(X_test)\n",
        "y_pred_train_LR_Grid = LR_Grid.predict(x_trainr)"
      ]
    },
    {
      "cell_type": "code",
      "execution_count": 38,
      "metadata": {
        "colab": {
          "base_uri": "https://localhost:8080/",
          "height": 774
        },
        "id": "2PlOioIeO_7U",
        "outputId": "3c094082-75f9-49fb-89c9-53bac168b444"
      },
      "outputs": [
        {
          "output_type": "stream",
          "name": "stdout",
          "text": [
            "Train Score :0.7295918367346939\n",
            "Test score :0.68\n",
            "precision_score: 0.4765625\n",
            "recall_score: 0.6777777777777778\n",
            "Classification report for Training\n",
            "              precision    recall  f1-score   support\n",
            "\n",
            "           0       0.74      0.71      0.72       490\n",
            "           1       0.72      0.75      0.73       490\n",
            "\n",
            "    accuracy                           0.73       980\n",
            "   macro avg       0.73      0.73      0.73       980\n",
            "weighted avg       0.73      0.73      0.73       980\n",
            "\n",
            "Classification report for Testing\n",
            "              precision    recall  f1-score   support\n",
            "\n",
            "           0       0.83      0.68      0.75       210\n",
            "           1       0.48      0.68      0.56        90\n",
            "\n",
            "    accuracy                           0.68       300\n",
            "   macro avg       0.65      0.68      0.65       300\n",
            "weighted avg       0.72      0.68      0.69       300\n",
            "\n",
            "\n"
          ]
        },
        {
          "output_type": "display_data",
          "data": {
            "text/plain": [
              "<Figure size 432x288 with 2 Axes>"
            ],
            "image/png": "[encoded data removed]"
          },
          "metadata": {}
        }
      ],
      "source": [
        "model_metrics(LR_Grid,x_trainr,y_trainr,y_test,y_pred_LR_Grid,y_pred_train_LR_Grid)"
      ]
    },
    {
      "cell_type": "code",
      "execution_count": 39,
      "metadata": {
        "id": "x26ePJ3oEV5H"
      },
      "outputs": [],
      "source": [
        "#prediciton probablity\n",
        "y_pred_proba = LR_Grid.predict_proba(X_test)[::,1]"
      ]
    },
    {
      "cell_type": "code",
      "execution_count": 40,
      "metadata": {
        "id": "empz0jcxFGp5"
      },
      "outputs": [],
      "source": [
        "fpr, tpr, thresholds = roc_curve(y_test, y_pred_proba)"
      ]
    },
    {
      "cell_type": "code",
      "execution_count": 41,
      "metadata": {
        "colab": {
          "base_uri": "https://localhost:8080/"
        },
        "id": "aewx8n5bFI4l",
        "outputId": "d41a154c-19eb-4ca1-cf83-0046ead714d9"
      },
      "outputs": [
        {
          "output_type": "execute_result",
          "data": {
            "text/plain": [
              "0.7244444444444446"
            ]
          },
          "metadata": {},
          "execution_count": 41
        }
      ],
      "source": [
        "#area under curve\n",
        "auc_score=roc_auc_score(y_test,y_pred_proba)\n",
        "auc_score"
      ]
    },
    {
      "cell_type": "code",
      "execution_count": 42,
      "metadata": {
        "colab": {
          "base_uri": "https://localhost:8080/",
          "height": 318
        },
        "id": "ONKOIgZtFLYw",
        "outputId": "aa922282-2b0d-4707-dc97-25a600b03f4b"
      },
      "outputs": [
        {
          "output_type": "display_data",
          "data": {
            "text/plain": [
              "<Figure size 576x288 with 1 Axes>"
            ],
            "image/png": "[encoded data removed]"
          },
          "metadata": {}
        }
      ],
      "source": [
        "#roc curve plot\n",
        "plot_roc_curve(fpr,tpr,auc_score)"
      ]
    },
    {
      "cell_type": "markdown",
      "metadata": {
        "id": "plal8vxJFcbP"
      },
      "source": [
        "## **Decision Tree**"
      ]
    },
    {
      "cell_type": "code",
      "execution_count": 43,
      "metadata": {
        "colab": {
          "base_uri": "https://localhost:8080/"
        },
        "id": "AH6qYISdFUjk",
        "outputId": "e368450b-917f-4fc8-a3c9-07ef7c8acb63"
      },
      "outputs": [
        {
          "output_type": "execute_result",
          "data": {
            "text/plain": [
              "DecisionTreeClassifier()"
            ]
          },
          "metadata": {},
          "execution_count": 43
        }
      ],
      "source": [
        "#decision tree model\n",
        "dt= DecisionTreeClassifier()\n",
        "#fitting data\n",
        "dt.fit(x_trainr,y_trainr)\n"
      ]
    },
    {
      "cell_type": "code",
      "execution_count": 44,
      "metadata": {
        "id": "xM05mTnpFhhb"
      },
      "outputs": [],
      "source": [
        "#prediction\n",
        "y_pred_dt = dt.predict(X_test)\n",
        "y_pred_dt_train = dt.predict(x_trainr)"
      ]
    },
    {
      "cell_type": "code",
      "execution_count": 45,
      "metadata": {
        "colab": {
          "base_uri": "https://localhost:8080/",
          "height": 774
        },
        "id": "_dQk1pQDFj38",
        "outputId": "d095b538-deb8-4524-8d63-21d11aed3f61"
      },
      "outputs": [
        {
          "output_type": "stream",
          "name": "stdout",
          "text": [
            "Train Score :1.0\n",
            "Test score :0.6033333333333334\n",
            "precision_score: 0.3592233009708738\n",
            "recall_score: 0.4111111111111111\n",
            "Classification report for Training\n",
            "              precision    recall  f1-score   support\n",
            "\n",
            "           0       1.00      1.00      1.00       490\n",
            "           1       1.00      1.00      1.00       490\n",
            "\n",
            "    accuracy                           1.00       980\n",
            "   macro avg       1.00      1.00      1.00       980\n",
            "weighted avg       1.00      1.00      1.00       980\n",
            "\n",
            "Classification report for Testing\n",
            "              precision    recall  f1-score   support\n",
            "\n",
            "           0       0.73      0.69      0.71       210\n",
            "           1       0.36      0.41      0.38        90\n",
            "\n",
            "    accuracy                           0.60       300\n",
            "   macro avg       0.55      0.55      0.55       300\n",
            "weighted avg       0.62      0.60      0.61       300\n",
            "\n",
            "\n"
          ]
        },
        {
          "output_type": "display_data",
          "data": {
            "text/plain": [
              "<Figure size 432x288 with 2 Axes>"
            ],
            "image/png": "[encoded data removed]"
          },
          "metadata": {}
        }
      ],
      "source": [
        "#model metrics\n",
        "model_metrics(dt,x_trainr,y_trainr,y_test,y_pred_dt,y_pred_dt_train)"
      ]
    },
    {
      "cell_type": "markdown",
      "metadata": {
        "id": "LL7IOWaMFt4M"
      },
      "source": [
        "## **GridSearchCV on Decision Tree**"
      ]
    },
    {
      "cell_type": "code",
      "execution_count": 46,
      "metadata": {
        "id": "Lm6xJvetFm6C"
      },
      "outputs": [],
      "source": [
        "#selecting parameter for hyperparameter tuning\n",
        "parameter = {\"max_depth\": [1,2,3,4,5],\n",
        "              \"min_samples_leaf\": [1,2,3,4,5,6,7,8,9,10],\n",
        "              \"criterion\": [ \"gini\",\"entropy\"],\n",
        "             \"class_weight\":[\"balanced\"],\n",
        "            \"ccp_alpha\":[0.01,0.1]}"
      ]
    },
    {
      "cell_type": "code",
      "execution_count": 47,
      "metadata": {
        "id": "Y7SZneaiFwkk"
      },
      "outputs": [],
      "source": [
        "tree = DecisionTreeClassifier()"
      ]
    },
    {
      "cell_type": "code",
      "execution_count": 48,
      "metadata": {
        "colab": {
          "base_uri": "https://localhost:8080/"
        },
        "id": "nAyhXsaDF0vk",
        "outputId": "469d69c2-a971-45d2-f92c-b2cf9c8c5237"
      },
      "outputs": [
        {
          "output_type": "stream",
          "name": "stdout",
          "text": [
            "Fitting 5 folds for each of 200 candidates, totalling 1000 fits\n"
          ]
        },
        {
          "output_type": "execute_result",
          "data": {
            "text/plain": [
              "GridSearchCV(cv=5, estimator=DecisionTreeClassifier(), n_jobs=-1,\n",
              "             param_grid={'ccp_alpha': [0.01, 0.1], 'class_weight': ['balanced'],\n",
              "                         'criterion': ['gini', 'entropy'],\n",
              "                         'max_depth': [1, 2, 3, 4, 5],\n",
              "                         'min_samples_leaf': [1, 2, 3, 4, 5, 6, 7, 8, 9, 10]},\n",
              "             verbose=3)"
            ]
          },
          "metadata": {},
          "execution_count": 48
        }
      ],
      "source": [
        "tree_Grid = GridSearchCV(tree, param_grid=parameter,cv=5,n_jobs=-1,verbose=3)\n",
        "#fitting data\n",
        "\n",
        "tree_Grid.fit(x_trainr,y_trainr)\n"
      ]
    },
    {
      "cell_type": "code",
      "execution_count": 49,
      "metadata": {
        "colab": {
          "base_uri": "https://localhost:8080/"
        },
        "id": "KkxxrHzPF4Gf",
        "outputId": "23bf1876-5422-48fb-f139-808b661f0343"
      },
      "outputs": [
        {
          "output_type": "execute_result",
          "data": {
            "text/plain": [
              "{'ccp_alpha': 0.01,\n",
              " 'class_weight': 'balanced',\n",
              " 'criterion': 'entropy',\n",
              " 'max_depth': 5,\n",
              " 'min_samples_leaf': 1}"
            ]
          },
          "metadata": {},
          "execution_count": 49
        }
      ],
      "source": [
        "#best parameter for model\n",
        "tree_Grid.best_params_"
      ]
    },
    {
      "cell_type": "code",
      "execution_count": 50,
      "metadata": {
        "id": "RGE7Ev8jF-T2"
      },
      "outputs": [],
      "source": [
        "#prediction\n",
        "y_pred_tree = tree_Grid.predict(X_test)\n",
        "y_pred_tree_train = tree_Grid.predict(x_trainr)"
      ]
    },
    {
      "cell_type": "code",
      "execution_count": 51,
      "metadata": {
        "id": "S97O-qTlF-u7"
      },
      "outputs": [],
      "source": [
        "#prediciton probablity\n",
        "y_pred_proba = tree_Grid.predict_proba(X_test)[::,1]"
      ]
    },
    {
      "cell_type": "code",
      "execution_count": 52,
      "metadata": {
        "id": "bwfU1gdmGBIw"
      },
      "outputs": [],
      "source": [
        "fpr, tpr, thresholds = roc_curve(y_test, y_pred_proba)"
      ]
    },
    {
      "cell_type": "code",
      "execution_count": 53,
      "metadata": {
        "colab": {
          "base_uri": "https://localhost:8080/"
        },
        "id": "qdhu5C3sGE41",
        "outputId": "3da2aee7-62a7-4388-e030-a31488dbfcd9"
      },
      "outputs": [
        {
          "output_type": "execute_result",
          "data": {
            "text/plain": [
              "0.6344973544973546"
            ]
          },
          "metadata": {},
          "execution_count": 53
        }
      ],
      "source": [
        "#area under curve\n",
        "auc_score=roc_auc_score(y_test,y_pred_proba)\n",
        "auc_score"
      ]
    },
    {
      "cell_type": "code",
      "execution_count": 54,
      "metadata": {
        "colab": {
          "base_uri": "https://localhost:8080/",
          "height": 774
        },
        "id": "7H6IDq38GHiF",
        "outputId": "621f230e-ed06-4e84-8720-c89c4325e25e"
      },
      "outputs": [
        {
          "output_type": "stream",
          "name": "stdout",
          "text": [
            "Train Score :0.6806122448979591\n",
            "Test score :0.6533333333333333\n",
            "precision_score: 0.4027777777777778\n",
            "recall_score: 0.32222222222222224\n",
            "Classification report for Training\n",
            "              precision    recall  f1-score   support\n",
            "\n",
            "           0       0.65      0.80      0.72       490\n",
            "           1       0.74      0.56      0.64       490\n",
            "\n",
            "    accuracy                           0.68       980\n",
            "   macro avg       0.69      0.68      0.68       980\n",
            "weighted avg       0.69      0.68      0.68       980\n",
            "\n",
            "Classification report for Testing\n",
            "              precision    recall  f1-score   support\n",
            "\n",
            "           0       0.73      0.80      0.76       210\n",
            "           1       0.40      0.32      0.36        90\n",
            "\n",
            "    accuracy                           0.65       300\n",
            "   macro avg       0.57      0.56      0.56       300\n",
            "weighted avg       0.63      0.65      0.64       300\n",
            "\n",
            "\n"
          ]
        },
        {
          "output_type": "display_data",
          "data": {
            "text/plain": [
              "<Figure size 432x288 with 2 Axes>"
            ],
            "image/png": "[encoded data removed]"
          },
          "metadata": {}
        }
      ],
      "source": [
        "#model metrics\n",
        "model_metrics(tree_Grid,x_trainr,y_trainr,y_test,y_pred_tree,y_pred_tree_train)"
      ]
    },
    {
      "cell_type": "code",
      "execution_count": 55,
      "metadata": {
        "colab": {
          "base_uri": "https://localhost:8080/",
          "height": 318
        },
        "id": "R4xZRPHOGJ_O",
        "outputId": "c9b870c1-6acd-4ce2-a784-6af8750481e0"
      },
      "outputs": [
        {
          "output_type": "display_data",
          "data": {
            "text/plain": [
              "<Figure size 576x288 with 1 Axes>"
            ],
            "image/png": "[encoded data removed]"
          },
          "metadata": {}
        }
      ],
      "source": [
        "#plot roc curve and auc score\n",
        "plot_roc_curve(fpr,tpr,auc_score)"
      ]
    },
    {
      "cell_type": "markdown",
      "metadata": {
        "id": "_O0de68oGbW3"
      },
      "source": [
        "## **Random Forest Classifier**"
      ]
    },
    {
      "cell_type": "code",
      "execution_count": 56,
      "metadata": {
        "colab": {
          "base_uri": "https://localhost:8080/"
        },
        "id": "1kdGEGIkGQRd",
        "outputId": "c9e17f4a-4b99-44ef-f5e7-02d80339e3b2"
      },
      "outputs": [
        {
          "output_type": "execute_result",
          "data": {
            "text/plain": [
              "RandomForestClassifier()"
            ]
          },
          "metadata": {},
          "execution_count": 56
        }
      ],
      "source": [
        "#fitting data\n",
        "rf = RandomForestClassifier()\n",
        "\n",
        "rf.fit(x_trainr,y_trainr)\n"
      ]
    },
    {
      "cell_type": "code",
      "execution_count": 57,
      "metadata": {
        "id": "i_9PMbIrGfnk"
      },
      "outputs": [],
      "source": [
        "#prediction\n",
        "y_pred_rf = rf.predict(X_test)\n",
        "y_pred_rf_train = rf.predict(x_trainr)"
      ]
    },
    {
      "cell_type": "code",
      "execution_count": 58,
      "metadata": {
        "colab": {
          "base_uri": "https://localhost:8080/",
          "height": 774
        },
        "id": "N5ns_uSMRZrt",
        "outputId": "f4c1b030-fc96-447b-81c1-ccd0553dd2e7"
      },
      "outputs": [
        {
          "output_type": "stream",
          "name": "stdout",
          "text": [
            "Train Score :1.0\n",
            "Test score :0.72\n",
            "precision_score: 0.5483870967741935\n",
            "recall_score: 0.37777777777777777\n",
            "Classification report for Training\n",
            "              precision    recall  f1-score   support\n",
            "\n",
            "           0       1.00      1.00      1.00       490\n",
            "           1       1.00      1.00      1.00       490\n",
            "\n",
            "    accuracy                           1.00       980\n",
            "   macro avg       1.00      1.00      1.00       980\n",
            "weighted avg       1.00      1.00      1.00       980\n",
            "\n",
            "Classification report for Testing\n",
            "              precision    recall  f1-score   support\n",
            "\n",
            "           0       0.76      0.87      0.81       210\n",
            "           1       0.55      0.38      0.45        90\n",
            "\n",
            "    accuracy                           0.72       300\n",
            "   macro avg       0.66      0.62      0.63       300\n",
            "weighted avg       0.70      0.72      0.70       300\n",
            "\n",
            "\n"
          ]
        },
        {
          "output_type": "display_data",
          "data": {
            "text/plain": [
              "<Figure size 432x288 with 2 Axes>"
            ],
            "image/png": "[encoded data removed]"
          },
          "metadata": {}
        }
      ],
      "source": [
        "#model metrics\n",
        "model_metrics(rf,x_trainr,y_trainr,y_test,y_pred_rf,y_pred_rf_train)"
      ]
    },
    {
      "cell_type": "markdown",
      "metadata": {
        "id": "gVuUzZIsRbqE"
      },
      "source": [
        "## **GridSearchCV on Random Forest**"
      ]
    },
    {
      "cell_type": "code",
      "execution_count": 59,
      "metadata": {
        "id": "aVc-0oIYRgCj"
      },
      "outputs": [],
      "source": [
        "#selecting paramter for hyperparamter tuning\n",
        "parameter = {'n_estimators':[20,60,100,120],\n",
        "             'criterion':['gini','entropy'], \n",
        "             'max_depth':[2,6,8,None],\n",
        "             'class_weight':['balanced','balanced_subsample'],\n",
        "             'max_samples':[0.5,0.75,1.0]}"
      ]
    },
    {
      "cell_type": "code",
      "execution_count": 60,
      "metadata": {
        "id": "-BvRjYLORh7j"
      },
      "outputs": [],
      "source": [
        "rf=RandomForestClassifier()\n",
        "rf_Grid = GridSearchCV(rf,param_grid=parameter,cv=5,verbose=1,n_jobs=-1)"
      ]
    },
    {
      "cell_type": "code",
      "execution_count": 61,
      "metadata": {
        "colab": {
          "base_uri": "https://localhost:8080/"
        },
        "id": "fKkHDrCHRl5e",
        "outputId": "27edf81f-44c5-4bd7-d269-21008d5a2c33"
      },
      "outputs": [
        {
          "output_type": "stream",
          "name": "stdout",
          "text": [
            "Fitting 5 folds for each of 192 candidates, totalling 960 fits\n"
          ]
        },
        {
          "output_type": "execute_result",
          "data": {
            "text/plain": [
              "GridSearchCV(cv=5, estimator=RandomForestClassifier(), n_jobs=-1,\n",
              "             param_grid={'class_weight': ['balanced', 'balanced_subsample'],\n",
              "                         'criterion': ['gini', 'entropy'],\n",
              "                         'max_depth': [2, 6, 8, None],\n",
              "                         'max_samples': [0.5, 0.75, 1.0],\n",
              "                         'n_estimators': [20, 60, 100, 120]},\n",
              "             verbose=1)"
            ]
          },
          "metadata": {},
          "execution_count": 61
        }
      ],
      "source": [
        "#fitting data\n",
        "\n",
        "rf_Grid.fit(x_trainr,y_trainr)\n"
      ]
    },
    {
      "cell_type": "code",
      "execution_count": 62,
      "metadata": {
        "colab": {
          "base_uri": "https://localhost:8080/"
        },
        "id": "_FzMm0LORtoq",
        "outputId": "c72985d8-c449-4eaf-b918-c45417fb9e20"
      },
      "outputs": [
        {
          "output_type": "execute_result",
          "data": {
            "text/plain": [
              "{'class_weight': 'balanced_subsample',\n",
              " 'criterion': 'gini',\n",
              " 'max_depth': None,\n",
              " 'max_samples': 1.0,\n",
              " 'n_estimators': 60}"
            ]
          },
          "metadata": {},
          "execution_count": 62
        }
      ],
      "source": [
        "#checking best parameter of model\n",
        "rf_Grid.best_params_"
      ]
    },
    {
      "cell_type": "code",
      "execution_count": 63,
      "metadata": {
        "id": "GBKhmws4Rv2y"
      },
      "outputs": [],
      "source": [
        "#prediction\n",
        "y_pred_rf_grid = rf_Grid.predict(X_test)\n",
        "y_pred_rf_train_grid = rf_Grid.predict(x_trainr)"
      ]
    },
    {
      "cell_type": "code",
      "execution_count": 64,
      "metadata": {
        "id": "MUT1axUsRyWy"
      },
      "outputs": [],
      "source": [
        "#prediciton probablity\n",
        "y_pred_proba = rf_Grid.predict_proba(X_test)[::,1]"
      ]
    },
    {
      "cell_type": "code",
      "execution_count": 65,
      "metadata": {
        "id": "Ahr0H4H5Rz9_"
      },
      "outputs": [],
      "source": [
        "fpr, tpr, thresholds = roc_curve(y_test, y_pred_proba)"
      ]
    },
    {
      "cell_type": "code",
      "execution_count": 66,
      "metadata": {
        "colab": {
          "base_uri": "https://localhost:8080/"
        },
        "id": "zT3rT13jR15o",
        "outputId": "09abfe7d-0b18-4a72-f969-ac05e0471d16"
      },
      "outputs": [
        {
          "output_type": "execute_result",
          "data": {
            "text/plain": [
              "0.7086772486772487"
            ]
          },
          "metadata": {},
          "execution_count": 66
        }
      ],
      "source": [
        "#area under curve\n",
        "auc_score=roc_auc_score(y_test,y_pred_proba)\n",
        "auc_score"
      ]
    },
    {
      "cell_type": "code",
      "execution_count": 67,
      "metadata": {
        "colab": {
          "base_uri": "https://localhost:8080/",
          "height": 774
        },
        "id": "5JKl0TG7R3vf",
        "outputId": "fd7f487e-65e6-43f1-f393-f1deb52ea897"
      },
      "outputs": [
        {
          "output_type": "stream",
          "name": "stdout",
          "text": [
            "Train Score :1.0\n",
            "Test score :0.7166666666666667\n",
            "precision_score: 0.543859649122807\n",
            "recall_score: 0.34444444444444444\n",
            "Classification report for Training\n",
            "              precision    recall  f1-score   support\n",
            "\n",
            "           0       1.00      1.00      1.00       490\n",
            "           1       1.00      1.00      1.00       490\n",
            "\n",
            "    accuracy                           1.00       980\n",
            "   macro avg       1.00      1.00      1.00       980\n",
            "weighted avg       1.00      1.00      1.00       980\n",
            "\n",
            "Classification report for Testing\n",
            "              precision    recall  f1-score   support\n",
            "\n",
            "           0       0.76      0.88      0.81       210\n",
            "           1       0.54      0.34      0.42        90\n",
            "\n",
            "    accuracy                           0.72       300\n",
            "   macro avg       0.65      0.61      0.62       300\n",
            "weighted avg       0.69      0.72      0.70       300\n",
            "\n",
            "\n"
          ]
        },
        {
          "output_type": "display_data",
          "data": {
            "text/plain": [
              "<Figure size 432x288 with 2 Axes>"
            ],
            "image/png": "[encoded data removed]"
          },
          "metadata": {}
        }
      ],
      "source": [
        "#model metrics\n",
        "model_metrics(rf_Grid,x_trainr,y_trainr,y_test,y_pred_rf_grid,y_pred_rf_train_grid)"
      ]
    },
    {
      "cell_type": "code",
      "execution_count": 68,
      "metadata": {
        "colab": {
          "base_uri": "https://localhost:8080/",
          "height": 318
        },
        "id": "3Au_AQX6R6IT",
        "outputId": "c2023f98-2af9-4788-8f1a-08f05dd7623c"
      },
      "outputs": [
        {
          "output_type": "display_data",
          "data": {
            "text/plain": [
              "<Figure size 576x288 with 1 Axes>"
            ],
            "image/png": "[encoded data removed]"
          },
          "metadata": {}
        }
      ],
      "source": [
        "#plot roc curve and auc score\n",
        "plot_roc_curve(fpr,tpr,auc_score)"
      ]
    },
    {
      "cell_type": "code",
      "execution_count": 69,
      "metadata": {
        "id": "_WFrzgLaSFw8"
      },
      "outputs": [],
      "source": [
        "import pickle #library for saving the model for future use or model deployment\n"
      ]
    },
    {
      "cell_type": "code",
      "execution_count": 71,
      "metadata": {
        "id": "T7VRVb-FSFul"
      },
      "outputs": [],
      "source": [
        "pickle.dump(LR_Grid,open('logistic_model.pkl','wb'))"
      ]
    },
    {
      "cell_type": "code",
      "execution_count": 68,
      "metadata": {
        "id": "q2jtMQ_ZSFtK"
      },
      "outputs": [],
      "source": []
    },
    {
      "cell_type": "code",
      "execution_count": 68,
      "metadata": {
        "id": "F9R1dSneSFqs"
      },
      "outputs": [],
      "source": []
    },
    {
      "cell_type": "markdown",
      "source": [
        "## **Conclusion**\n",
        "\n",
        "* Summary \n",
        "The following topics were covered in this tutorial:\n",
        "\n",
        "* Preparing a dataset for training\n",
        "* In feature engineering we created bins of feature in some category to reduce number of dimensions, converted categorical variablles into numerical variable,\n",
        "applied scaling technique to scale data on a same scale.\n",
        "* Handled imbalance class using Random over sampling technique\n",
        "* Training and interpreting Logistic regression\n",
        "* Training and interpreting decision trees\n",
        "* Training and interpreting random forests\n",
        "* hyperparameter tuning using GridSearchCV and evaluated model using confusion matrix and classification report\n",
        "\n",
        "\n",
        "* Logistic regression model has performed overall better than others, achieved recall of 0.6777\n",
        "\n"
      ],
      "metadata": {
        "id": "tOSPnSM8SvS8"
      }
    },
    {
      "cell_type": "code",
      "source": [],
      "metadata": {
        "id": "svbqwVkUU8gC"
      },
      "execution_count": null,
      "outputs": []
    }
  ],
  "metadata": {
    "colab": {
      "provenance": [],
      "collapsed_sections": [],
      "include_colab_link": true
    },
    "kernelspec": {
      "display_name": "Python 3 (ipykernel)",
      "language": "python",
      "name": "python3"
    },
    "language_info": {
      "codemirror_mode": {
        "name": "ipython",
        "version": 3
      },
      "file_extension": ".py",
      "mimetype": "text/x-python",
      "name": "python",
      "nbconvert_exporter": "python",
      "pygments_lexer": "ipython3",
      "version": "3.10.4"
    }
  },
  "nbformat": 4,
  "nbformat_minor": 0
}